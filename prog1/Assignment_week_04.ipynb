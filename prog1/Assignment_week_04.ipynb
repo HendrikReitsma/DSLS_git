{
 "cells": [
  {
   "attachments": {},
   "cell_type": "markdown",
   "metadata": {},
   "source": [
    "# Week 04 Assignment weather data\n",
    "\n",
    "Welcome to week four of this course programming 1. Analyzing time related data such as estimating seasonal effect, or year effect might be a challenge. How to filter the essential information from the noise? How to apply signal analysis with noisy data. How to make compact useful visualizations? Python has several constructs to handle date time related data. The relevant classes for making plots are Locators and Formatters. Locators determine where the ticks are, and formatters control the formatting of tick labels. The relevant class for date time data is the pandas datetime data type, which has methods like resample and several possibilities to display data (frequencies). As a study case we will work with weather data. If you have data that fits the learning goals, you can bring your own data.\n",
    "\n",
    "Keywords: signal processing, smoothing, resample, formatters and locators, datetime object\n",
    "\n",
    "More to read: \n",
    "\n",
    "- https://fennaf.gitbook.io/bfvm19prog1/\n",
    "- https://machinelearningmastery.com/time-series-data-visualization-with-python/\n",
    "- https://towardsdatascience.com/how-to-plot-time-series-86b5358197d6\n",
    "- In the https://pandas.pydata.org/docs/reference/offset_frequency.html you can find more about frequencies and in the documentation\n",
    "- https://pandas.pydata.org/pandas-docs/stable/user_guide/timeseries.html you can read all the methods of this datetime object.\n",
    "\n",
    "Learning objectives\n",
    "\n",
    "- load, inspect and clean a dataset\n",
    "- reshape dataframes to group data in a certain frequency\n",
    "- apply smoothing technologies\n",
    "- Create useful visualisation with timeseries data\n",
    "- Maintain development environment \n",
    "- Apply coding standards and FAIR principles\n",
    "\n",
    "\n",
    "## Assignment\n",
    "\n",
    "You will to organise your data into the required format and apply smoothing. In this assignment we will work with weatherdata from the KNMI. A subset of weatherdata is for you available in the file: `KNMI_20181231`. The data consist of several stations with daily weather data of several years. Your task is to make a plot similar to the plot below. \n",
    "\n",
    "<img src=\"../images/weather.png\" alt=\"drawing\" width=\"400\"/>\n",
    "\n",
    "\n",
    "Furthermore the plot needs the following enhancements\n",
    "\n",
    "1. proper titles and ticks\n",
    "2. widgets selecting a particular year or all years\n",
    "3. lines need to be smoothed\n",
    "3. legends needs to be added\n",
    "\n",
    "Use your creativity. Consider colors, alpha settings, sizes etc. \n",
    "\n",
    "Learning outcomes\n",
    "\n",
    "- load, inspect and clean a dataset \n",
    "- reformat dataframes\n",
    "- apply smoothing technologies\n",
    "- visualize timeseries data\n",
    "\n",
    "The assignment consists of 6 parts:\n",
    "\n",
    "- [part 1: load the data](#0)\n",
    "- [part 2: clean the data](#1)\n",
    "- [part 3: reformat data](#2)\n",
    "- [part 4: smooth the data](#3)\n",
    "- [part 5: visualize the data](#4)\n",
    "- [part 6: Challenge](#5)\n",
    "\n",
    "Part 1 and 5 are mandatory, part 6 is optional (bonus)\n",
    "To pass the assingnment you need to a score of 60%. \n",
    "\n",
    "\n",
    "NB if you want to make a plot with more actual data you can download data from https://openweathermap.org/api \n"
   ]
  },
  {
   "cell_type": "markdown",
   "metadata": {},
   "source": [
    "---"
   ]
  },
  {
   "cell_type": "markdown",
   "metadata": {},
   "source": [
    "<a name='0'></a>\n",
    "## Part 1: Load the data\n",
    "\n",
    "Either load the dataset `KNMI_20181231.csv` or `KNMI_20181231.txt.tsv`. The dataheaders contain spaces and are not very self explainable. Change this into more readable ones. Select data from a station. Station 270 is in the neighborhood of Groningen. For our plot we only need the the mean, minimum and maximum temperature. Of course you are welcome to select other data if you think it might be useful for your visualization. The data should look something like this:\n"
   ]
  },
  {
   "cell_type": "raw",
   "metadata": {},
   "source": [
    "       station       Date  Tmean  Tmin  Tmax\n",
    "97641      270 2000-01-01   42.0  -4.0  79.0\n",
    "97642      270 2000-01-02   55.0  33.0  74.0\n",
    "97643      270 2000-01-03   74.0  49.0  89.0\n",
    "97644      270 2000-01-04   46.0  22.0  75.0\n",
    "97645      270 2000-01-05   41.0  14.0  56.0"
   ]
  },
  {
   "cell_type": "code",
   "execution_count": 491,
   "metadata": {},
   "outputs": [
    {
     "name": "stderr",
     "output_type": "stream",
     "text": [
      "C:\\Users\\hendr\\AppData\\Roaming\\Python\\Python39\\site-packages\\IPython\\core\\interactiveshell.py:3444: DtypeWarning: Columns (2,3,4,5,6) have mixed types.Specify dtype option on import or set low_memory=False.\n",
      "  exec(code_obj, self.user_global_ns, self.user_ns)\n"
     ]
    }
   ],
   "source": [
    "# SOURCE: KONINKLIJK NEDERLANDS METEOROLOGISCH INSTITUUT (KNMI)\n",
    "#\n",
    "#\n",
    "# STN      LON(east)   LAT(north)     ALT(m)  NAME\n",
    "# 209:         4.518       52.465       0.00  IJMOND\n",
    "# 210:         4.430       52.171      -0.20  VALKENBURG\n",
    "# 215:         4.437       52.141      -1.10  VOORSCHOTEN\n",
    "# 225:         4.555       52.463       4.40  IJMUIDEN\n",
    "# 235:         4.781       52.928       1.20  DE KOOY\n",
    "# 240:         4.790       52.318      -3.30  SCHIPHOL\n",
    "# 242:         4.921       53.241      10.80  VLIELAND\n",
    "# 248:         5.174       52.634       0.80  WIJDENES\n",
    "# 249:         4.979       52.644      -2.40  BERKHOUT\n",
    "# 251:         5.346       53.392       0.70  HOORN (TERSCHELLING)\n",
    "# 257:         4.603       52.506       8.50  WIJK AAN ZEE\n",
    "# 258:         5.401       52.649       7.30  HOUTRIBDIJK\n",
    "# 260:         5.180       52.100       1.90  DE BILT\n",
    "# 265:         5.274       52.130      13.90  SOESTERBERG\n",
    "# 267:         5.384       52.898      -1.30  STAVOREN\n",
    "# 269:         5.520       52.458      -3.70  LELYSTAD\n",
    "# 270:         5.752       53.224       1.20  LEEUWARDEN\n",
    "# 273:         5.888       52.703      -3.30  MARKNESSE\n",
    "# 275:         5.873       52.056      48.20  DEELEN\n",
    "# 277:         6.200       53.413       2.90  LAUWERSOOG\n",
    "# 278:         6.259       52.435       3.60  HEINO\n",
    "# 279:         6.574       52.750      15.80  HOOGEVEEN\n",
    "# 280:         6.585       53.125       5.20  EELDE\n",
    "# 283:         6.657       52.069      29.10  HUPSEL\n",
    "# 285:         6.399       53.575       0.00  HUIBERTGAT\n",
    "# 286:         7.150       53.196      -0.20  NIEUW BEERTA\n",
    "# 290:         6.891       52.274      34.80  TWENTHE\n",
    "# 308:         3.379       51.381       0.00  CADZAND\n",
    "# 310:         3.596       51.442       8.00  VLISSINGEN\n",
    "# 311:         3.672       51.379       0.00  HOOFDPLAAT\n",
    "# 312:         3.622       51.768       0.00  OOSTERSCHELDE\n",
    "# 313:         3.242       51.505       0.00  VLAKTE V.D. RAAN\n",
    "# 315:         3.998       51.447       0.00  HANSWEERT\n",
    "# 316:         3.694       51.657       0.00  SCHAAR\n",
    "# 319:         3.861       51.226       1.70  WESTDORPE\n",
    "# 323:         3.884       51.527       1.40  WILHELMINADORP\n",
    "# 324:         4.006       51.596       0.00  STAVENISSE\n",
    "# 330:         4.122       51.992      11.90  HOEK VAN HOLLAND\n",
    "# 331:         4.193       51.480       0.00  THOLEN\n",
    "# 340:         4.342       51.449      19.20  WOENSDRECHT\n",
    "# 343:         4.313       51.893       3.50  R'DAM-GEULHAVEN\n",
    "# 344:         4.447       51.962      -4.30  ROTTERDAM\n",
    "# 348:         4.926       51.970      -0.70  CABAUW\n",
    "# 350:         4.936       51.566      14.90  GILZE-RIJEN\n",
    "# 356:         5.146       51.859       0.70  HERWIJNEN\n",
    "# 370:         5.377       51.451      22.60  EINDHOVEN\n",
    "# 375:         5.707       51.659      22.00  VOLKEL\n",
    "# 377:         5.763       51.198      30.00  ELL\n",
    "# 380:         5.762       50.906     114.30  MAASTRICHT\n",
    "# 391:         6.197       51.498      19.50  ARCEN\n",
    "\n",
    "import pandas as pd\n",
    "df = pd.read_csv(\"data/KNMI_20181231.txt.tsv\", comment='#')\n",
    "\n",
    "\n",
    "\n"
   ]
  },
  {
   "cell_type": "markdown",
   "metadata": {},
   "source": [
    "---"
   ]
  },
  {
   "cell_type": "markdown",
   "metadata": {},
   "source": [
    "<a name='1'></a>\n",
    "## Part 2: Clean the data"
   ]
  },
  {
   "cell_type": "markdown",
   "metadata": {},
   "source": [
    "The data ia not clean. There are empty cells in the dataframe which needs to be replaced with NaN's and the temperature is in centidegrees which needs to be transformed into degrees. The date field needs a datetime format. For visualization convience we would like to remove the leap year. Conduct the cleaning."
   ]
  },
  {
   "cell_type": "code",
   "execution_count": 492,
   "metadata": {
    "scrolled": true
   },
   "outputs": [
    {
     "name": "stdout",
     "output_type": "stream",
     "text": [
      "        STN       Date   TG   TN    TX   SQ    DR    RH\n",
      "97641   270 2000-01-01  4.2 -0.4   7.9  4.9   1.5   1.1\n",
      "97642   270 2000-01-02  5.5  3.3   7.4  1.2   0.0  -0.1\n",
      "97643   270 2000-01-03  7.4  4.9   8.9  0.0  12.4  17.2\n",
      "97644   270 2000-01-04  4.6  2.2   7.5  0.4   1.3   1.1\n",
      "97645   270 2000-01-05  4.1  1.4   5.6  5.6   0.0   0.0\n",
      "...     ...        ...  ...  ...   ...  ...   ...   ...\n",
      "104576  270 2018-12-27  5.7  5.3   6.2  0.0   0.9   0.2\n",
      "104577  270 2018-12-28  7.1  5.8   8.1  0.0   0.0   0.0\n",
      "104578  270 2018-12-29  8.5  6.9  10.2  0.0   1.4   1.8\n",
      "104579  270 2018-12-30  8.0  6.8   9.0  0.0   1.4   0.5\n",
      "104580  270 2018-12-31  8.7  8.2   9.7  3.8   0.0  -0.1\n",
      "\n",
      "[6935 rows x 8 columns]\n"
     ]
    },
    {
     "data": {
      "text/html": [
       "<div>\n",
       "<style scoped>\n",
       "    .dataframe tbody tr th:only-of-type {\n",
       "        vertical-align: middle;\n",
       "    }\n",
       "\n",
       "    .dataframe tbody tr th {\n",
       "        vertical-align: top;\n",
       "    }\n",
       "\n",
       "    .dataframe thead th {\n",
       "        text-align: right;\n",
       "    }\n",
       "</style>\n",
       "<table border=\"1\" class=\"dataframe\">\n",
       "  <thead>\n",
       "    <tr style=\"text-align: right;\">\n",
       "      <th></th>\n",
       "      <th>STN</th>\n",
       "      <th>TG</th>\n",
       "      <th>TN</th>\n",
       "      <th>TX</th>\n",
       "      <th>SQ</th>\n",
       "      <th>DR</th>\n",
       "      <th>RH</th>\n",
       "    </tr>\n",
       "    <tr>\n",
       "      <th>Date</th>\n",
       "      <th></th>\n",
       "      <th></th>\n",
       "      <th></th>\n",
       "      <th></th>\n",
       "      <th></th>\n",
       "      <th></th>\n",
       "      <th></th>\n",
       "    </tr>\n",
       "  </thead>\n",
       "  <tbody>\n",
       "    <tr>\n",
       "      <th>2000-01-01</th>\n",
       "      <td>270</td>\n",
       "      <td>4.2</td>\n",
       "      <td>-0.4</td>\n",
       "      <td>7.9</td>\n",
       "      <td>4.9</td>\n",
       "      <td>1.5</td>\n",
       "      <td>1.1</td>\n",
       "    </tr>\n",
       "    <tr>\n",
       "      <th>2000-01-02</th>\n",
       "      <td>270</td>\n",
       "      <td>5.5</td>\n",
       "      <td>3.3</td>\n",
       "      <td>7.4</td>\n",
       "      <td>1.2</td>\n",
       "      <td>0.0</td>\n",
       "      <td>-0.1</td>\n",
       "    </tr>\n",
       "    <tr>\n",
       "      <th>2000-01-03</th>\n",
       "      <td>270</td>\n",
       "      <td>7.4</td>\n",
       "      <td>4.9</td>\n",
       "      <td>8.9</td>\n",
       "      <td>0.0</td>\n",
       "      <td>12.4</td>\n",
       "      <td>17.2</td>\n",
       "    </tr>\n",
       "    <tr>\n",
       "      <th>2000-01-04</th>\n",
       "      <td>270</td>\n",
       "      <td>4.6</td>\n",
       "      <td>2.2</td>\n",
       "      <td>7.5</td>\n",
       "      <td>0.4</td>\n",
       "      <td>1.3</td>\n",
       "      <td>1.1</td>\n",
       "    </tr>\n",
       "    <tr>\n",
       "      <th>2000-01-05</th>\n",
       "      <td>270</td>\n",
       "      <td>4.1</td>\n",
       "      <td>1.4</td>\n",
       "      <td>5.6</td>\n",
       "      <td>5.6</td>\n",
       "      <td>0.0</td>\n",
       "      <td>0.0</td>\n",
       "    </tr>\n",
       "    <tr>\n",
       "      <th>...</th>\n",
       "      <td>...</td>\n",
       "      <td>...</td>\n",
       "      <td>...</td>\n",
       "      <td>...</td>\n",
       "      <td>...</td>\n",
       "      <td>...</td>\n",
       "      <td>...</td>\n",
       "    </tr>\n",
       "    <tr>\n",
       "      <th>2018-12-27</th>\n",
       "      <td>270</td>\n",
       "      <td>5.7</td>\n",
       "      <td>5.3</td>\n",
       "      <td>6.2</td>\n",
       "      <td>0.0</td>\n",
       "      <td>0.9</td>\n",
       "      <td>0.2</td>\n",
       "    </tr>\n",
       "    <tr>\n",
       "      <th>2018-12-28</th>\n",
       "      <td>270</td>\n",
       "      <td>7.1</td>\n",
       "      <td>5.8</td>\n",
       "      <td>8.1</td>\n",
       "      <td>0.0</td>\n",
       "      <td>0.0</td>\n",
       "      <td>0.0</td>\n",
       "    </tr>\n",
       "    <tr>\n",
       "      <th>2018-12-29</th>\n",
       "      <td>270</td>\n",
       "      <td>8.5</td>\n",
       "      <td>6.9</td>\n",
       "      <td>10.2</td>\n",
       "      <td>0.0</td>\n",
       "      <td>1.4</td>\n",
       "      <td>1.8</td>\n",
       "    </tr>\n",
       "    <tr>\n",
       "      <th>2018-12-30</th>\n",
       "      <td>270</td>\n",
       "      <td>8.0</td>\n",
       "      <td>6.8</td>\n",
       "      <td>9.0</td>\n",
       "      <td>0.0</td>\n",
       "      <td>1.4</td>\n",
       "      <td>0.5</td>\n",
       "    </tr>\n",
       "    <tr>\n",
       "      <th>2018-12-31</th>\n",
       "      <td>270</td>\n",
       "      <td>8.7</td>\n",
       "      <td>8.2</td>\n",
       "      <td>9.7</td>\n",
       "      <td>3.8</td>\n",
       "      <td>0.0</td>\n",
       "      <td>-0.1</td>\n",
       "    </tr>\n",
       "  </tbody>\n",
       "</table>\n",
       "<p>6935 rows × 7 columns</p>\n",
       "</div>"
      ],
      "text/plain": [
       "            STN   TG   TN    TX   SQ    DR    RH\n",
       "Date                                            \n",
       "2000-01-01  270  4.2 -0.4   7.9  4.9   1.5   1.1\n",
       "2000-01-02  270  5.5  3.3   7.4  1.2   0.0  -0.1\n",
       "2000-01-03  270  7.4  4.9   8.9  0.0  12.4  17.2\n",
       "2000-01-04  270  4.6  2.2   7.5  0.4   1.3   1.1\n",
       "2000-01-05  270  4.1  1.4   5.6  5.6   0.0   0.0\n",
       "...         ...  ...  ...   ...  ...   ...   ...\n",
       "2018-12-27  270  5.7  5.3   6.2  0.0   0.9   0.2\n",
       "2018-12-28  270  7.1  5.8   8.1  0.0   0.0   0.0\n",
       "2018-12-29  270  8.5  6.9  10.2  0.0   1.4   1.8\n",
       "2018-12-30  270  8.0  6.8   9.0  0.0   1.4   0.5\n",
       "2018-12-31  270  8.7  8.2   9.7  3.8   0.0  -0.1\n",
       "\n",
       "[6935 rows x 7 columns]"
      ]
     },
     "execution_count": 492,
     "metadata": {},
     "output_type": "execute_result"
    }
   ],
   "source": [
    "#replace cells with spaces to NaN\n",
    "import numpy as np\n",
    "from pandas import to_datetime\n",
    "df = df.replace(r'^\\s+$', np.nan, regex=True)\n",
    "## change data formats\n",
    "\n",
    "# first strip all column names\n",
    "df = df.rename(columns=lambda x: x.strip())\n",
    "df['YYYYMMDD'] = to_datetime(df['YYYYMMDD'], format='%Y%m%d')\n",
    "df = df.astype({'STN' : 'int64','TG' : 'float64','TN' : 'float64','TX' : 'float64','SQ' : 'float64','DR' : 'float64','RH' : 'float64'})\n",
    "\n",
    "## change temperatures to celcius degrees\n",
    "# : divide every number by 10\n",
    "df.iloc[:, [2,3,4,5,6,7]] = df.iloc[:, [2,3,4,5,6,7]] * 0.1\n",
    "\n",
    "## remove leap days\n",
    "# change column name to Date\n",
    "pd.DataFrame.rename(df, columns={df.columns[1] : \"Date\"}, inplace=True)\n",
    "\n",
    "# delete leap day\n",
    "df = df[~((df.Date.dt.month == 2) & (df.Date.dt.day == 29))]\n",
    "\n",
    "# select a station\n",
    "station = 270\n",
    "df = df[df['STN'] == station]\n",
    "print(df)\n",
    "\n",
    "# set date as index\n",
    "df = df.set_index(df['Date'])\n",
    "df = df.sort_index()\n",
    "df = df.drop(columns = 'Date')\n",
    "df\n"
   ]
  },
  {
   "cell_type": "markdown",
   "metadata": {},
   "source": [
    "<details>    \n",
    "<summary>\n",
    "    <font size=\"3\" color=\"darkgreen\"><b>Hints</b></font>\n",
    "</summary>\n",
    "<ul><li>pd.to_datetime(df['Date'].astype(str), format='%Y%m%d')</li>\n",
    "    <li>regex for empty cells = `^\\s*$` </li>\n",
    "    <li>remove month == 2 & day == 29</li> \n",
    "</ul>\n",
    "</details>"
   ]
  },
  {
   "cell_type": "code",
   "execution_count": 493,
   "metadata": {},
   "outputs": [],
   "source": [
    "#Test your outcome\n",
    "#write code to check if you have done the above"
   ]
  },
  {
   "cell_type": "markdown",
   "metadata": {},
   "source": [
    "### Expected outcome"
   ]
  },
  {
   "cell_type": "raw",
   "metadata": {},
   "source": [
    "DatetimeIndex: 24820 entries, 1951-01-01 to 2018-12-31\n",
    "Data columns (total 5 columns):\n",
    " #   Column   Non-Null Count  Dtype         \n",
    "---  ------   --------------  -----         \n",
    " 0   station  24820 non-null  int64         \n",
    " 1   Date     24820 non-null  datetime64[ns]\n",
    " 2   Tmean    24819 non-null  float64       \n",
    " 3   Tmin     24819 non-null  float64       \n",
    " 4   Tmax     24819 non-null  float64       \n",
    "dtypes: datetime64[ns](1), float64(3), int64(1)\n",
    "memory usage: 1.1 MB"
   ]
  },
  {
   "cell_type": "markdown",
   "metadata": {},
   "source": [
    "---"
   ]
  },
  {
   "cell_type": "markdown",
   "metadata": {},
   "source": [
    "<a name='2'></a>\n",
    "## Part 3: Reform your data\n",
    "\n",
    "First we will split the data in data from 2018 and data before 2018. Best is to split this in two dataframes. \n",
    "Next we need for the non 2018 data the minimum values for each day and the maximum values for each day. So we look for the minimum value out of all january-01 minimum values (regardless the year). Create a dataframe with 365 days containing the ultimate minimum and the ultimate maximum per day. \n"
   ]
  },
  {
   "cell_type": "code",
   "execution_count": 494,
   "metadata": {},
   "outputs": [],
   "source": [
    "## for df_before find the minimum and maximum value for each day\n",
    "## create a dataframe with 365 days containing the ultimate minimum and the ultimate maximum per day\n",
    "\n",
    "\n",
    "\n",
    "def month_day(df):\n",
    "    # # Drop columns except TG\n",
    "    # df = df.drop(df.columns[2:], axis = 1)\n",
    "\n",
    "    ## Split into two dataframes, before 2018 and from 2018\n",
    "    df_before = df[:'2017-12-31']\n",
    "    df_after = df['2018-01-01':]\n",
    "\n",
    "    # Changed the date to just day-month\n",
    "    df_before.index = df_before.index.strftime('%m-%d')\n",
    "    df_after.index = df_after.index.strftime('%m-%d')\n",
    "\n",
    "    # Sort the index\n",
    "    # df_before = df_before.sort_index()\n",
    "    # df_after = df_after.sort_index()\n",
    "\n",
    "    # groupby Date\n",
    "    df_before_max = df_before.groupby(df_before.index).max()\n",
    "    df_before_min = df_before.groupby(df_before.index).min()\n",
    "\n",
    "    df_after_max = df_after.groupby(df_after.index).max()\n",
    "    df_after_min = df_after.groupby(df_after.index).min()\n",
    "\n",
    "    df_after_mean = df_after.groupby(df_after.index).mean()\n",
    "\n",
    "    # print(df_after_max)\n",
    "    # print(df_before_min)\n",
    "    \n",
    "    return df_before_max, df_before_min, df_after_max, df_after_min, df_after_mean\n",
    "\n"
   ]
  },
  {
   "cell_type": "code",
   "execution_count": null,
   "metadata": {},
   "outputs": [],
   "source": []
  },
  {
   "cell_type": "code",
   "execution_count": 495,
   "metadata": {},
   "outputs": [],
   "source": [
    "#Test your code\n",
    "def test_reformed(df):\n",
    "    #\n",
    "    # df = df[(df.index.year > 2007) & (df.index.year < 2018)]\n",
    "    month_day(df)\n",
    "\n",
    "test_reformed(df)"
   ]
  },
  {
   "cell_type": "markdown",
   "metadata": {},
   "source": [
    "<details>    \n",
    "<summary>\n",
    "    <font size=\"3\" color=\"darkgreen\"><b>Hints</b></font>\n",
    "</summary>\n",
    "<ul><li>use the dt.month and dt.day to groupby</li>\n",
    "</ul>\n",
    "</details>"
   ]
  },
  {
   "cell_type": "markdown",
   "metadata": {},
   "source": [
    "### Expected outcome\n",
    "Note, the layout or names my differ, but the length should be 365 and the minimum values should be the same"
   ]
  },
  {
   "cell_type": "raw",
   "metadata": {},
   "source": [
    "month  day\n",
    "1      1      -5.8\n",
    "       2      -7.5\n",
    "       3     -12.6\n",
    "       4      -4.1\n",
    "       5      -6.0\n",
    "              ... \n",
    "12     27     -4.8\n",
    "       28     -4.2\n",
    "       29     -6.7\n",
    "       30    -10.2\n",
    "       31    -10.6\n",
    "Name: Tmin, Length: 365, dtype: float64"
   ]
  },
  {
   "cell_type": "markdown",
   "metadata": {},
   "source": [
    "---"
   ]
  },
  {
   "cell_type": "markdown",
   "metadata": {},
   "source": [
    "<a name='3'></a>\n",
    "## Part 4: Smooth the data\n",
    "\n",
    "Make a function that takes an array or a dataframe column and returns an array of smoothed data. Explain in words why you choose a certain smoothing algoritm. Ask the signal analysis teacher if you want some advice.\n"
   ]
  },
  {
   "cell_type": "code",
   "execution_count": 496,
   "metadata": {},
   "outputs": [
    {
     "data": {
      "image/png": "[encoded data removed]",
      "text/plain": [
       "<Figure size 432x288 with 1 Axes>"
      ]
     },
     "metadata": {
      "needs_background": "light"
     },
     "output_type": "display_data"
    }
   ],
   "source": [
    "#your code here\n",
    "\n",
    "# TG       = Temperature average  (in 0.1 degrees Celsius);\n",
    "# TN       = Minimum Temperature (in 0.1 degrees Celsius);\n",
    "# TX       = Maximum Temperature (in 0.1 degrees Celsius);\n",
    "\n",
    "## Fit polynomial (interp1d) through datapoints, return an array of this data\n",
    "\n",
    "from scipy.interpolate import interp1d\n",
    "import scipy.interpolate as interp\n",
    "\n",
    "df_before_max = month_day(df)[0]    #before 2018\n",
    "df_before_min = month_day(df)[1]\n",
    "\n",
    "df_after_max = month_day(df)[2]     #after 2018\n",
    "df_after_min = month_day(df)[3]\n",
    "df_after_mean = month_day(df)[4]\n",
    "\n",
    "## columns of the dataframe as x and y\n",
    "date = np.arange(1,366,1)\n",
    "\n",
    "temperature_before_max = df_before_max['TX']\n",
    "temperature_before_min = df_before_min['TN']\n",
    "temperature_after_max = df_after_max['TX']\n",
    "temperature_after_min = df_after_min['TN']\n",
    "temperature_after_mean = df_after_mean['TG']\n",
    "\n",
    "spline_before_max = interp.CubicSpline(date, temperature_before_max, extrapolate='periodic')\n",
    "spline_before_min = interp.CubicSpline(date, temperature_before_min, extrapolate='periodic')\n",
    "spline_after_max = interp.CubicSpline(date, temperature_after_max, extrapolate='periodic')\n",
    "spline_after_min = interp.CubicSpline(date, temperature_after_min, extrapolate='periodic')\n",
    "spline_after_mean = interp.CubicSpline(date, temperature_after_mean, extrapolate='periodic')\n",
    "\n",
    "x = date\n",
    "y_before_max = spline_before_max(x)\n",
    "y_before_min = spline_before_min(x)\n",
    "y_after_max = spline_after_max(x)\n",
    "y_after_min = spline_after_min(x)\n",
    "y_after_mean = spline_after_mean(x)\n",
    "\n",
    "#your motivation here\n",
    "#Smoothing CubicSpline because thats what you do\n",
    "\n",
    "\n",
    "### matplotlib plot\n",
    "import matplotlib.pyplot as plt\n",
    "\n",
    "plt.axhline(0., color='k', lw=.5)\n",
    "# plt.plot(time, volume, 'o:k', label='original')\n",
    "# plt.plot(x, np.mean(volume), '-g', label='spline')\n",
    "plt.plot(x, y_before_max, '-r', label='max')\n",
    "plt.plot(x, y_before_min, '-b', label='min')\n",
    "plt.plot(x, y_after_mean, '-g', label='mean')\n",
    "# plt.plot(x, y_cubic, '-b', label='cubicspline_periodic')\n",
    "plt.xlabel('day'); plt.ylabel('temperature (C)')\n",
    "plt.title('max and min temperatures in leeuwarden from 2000 and up to 2018')\n",
    "plt.legend(); plt.xlim(0, 365);plt.ylim(-15, 40); plt.show()"
   ]
  },
  {
   "cell_type": "markdown",
   "metadata": {},
   "source": [
    "---"
   ]
  },
  {
   "cell_type": "markdown",
   "metadata": {},
   "source": [
    "<a name='4'></a>\n",
    "## Part 5: Visualize the data"
   ]
  },
  {
   "cell_type": "markdown",
   "metadata": {},
   "source": [
    "Plot the mean temperature of the year 2018. Create a shaded band with the ultimate minimum values and the ultimate maximum values from the multi-year dataset. Add labels, titles and legends. Use proper ranges. Be creative to make the plot attractive. \n",
    "\n"
   ]
  },
  {
   "cell_type": "code",
   "execution_count": 500,
   "metadata": {},
   "outputs": [
    {
     "data": {
      "text/html": [
       "\n",
       "    <div class=\"bk-root\">\n",
       "        <a href=\"https://bokeh.org\" target=\"_blank\" class=\"bk-logo bk-logo-small bk-logo-notebook\"></a>\n",
       "        <span id=\"28512\">Loading BokehJS ...</span>\n",
       "    </div>"
      ]
     },
     "metadata": {},
     "output_type": "display_data"
    },
    {
     "data": {
      "application/javascript": "\n(function(root) {\n  function now() {\n    return new Date();\n  }\n\n  const force = true;\n\n  if (typeof root._bokeh_onload_callbacks === \"undefined\" || force === true) {\n    root._bokeh_onload_callbacks = [];\n    root._bokeh_is_loading = undefined;\n  }\n\n  const JS_MIME_TYPE = 'application/javascript';\n  const HTML_MIME_TYPE = 'text/html';\n  const EXEC_MIME_TYPE = 'application/vnd.bokehjs_exec.v0+json';\n  const CLASS_NAME = 'output_bokeh rendered_html';\n\n  /**\n   * Render data to the DOM node\n   */\n  function render(props, node) {\n    const script = document.createElement(\"script\");\n    node.appendChild(script);\n  }\n\n  /**\n   * Handle when an output is cleared or removed\n   */\n  function handleClearOutput(event, handle) {\n    const cell = handle.cell;\n\n    const id = cell.output_area._bokeh_element_id;\n    const server_id = cell.output_area._bokeh_server_id;\n    // Clean up Bokeh references\n    if (id != null && id in Bokeh.index) {\n      Bokeh.index[id].model.document.clear();\n      delete Bokeh.index[id];\n    }\n\n    if (server_id !== undefined) {\n      // Clean up Bokeh references\n      const cmd_clean = \"from bokeh.io.state import curstate; print(curstate().uuid_to_server['\" + server_id + \"'].get_sessions()[0].document.roots[0]._id)\";\n      cell.notebook.kernel.execute(cmd_clean, {\n        iopub: {\n          output: function(msg) {\n            const id = msg.content.text.trim();\n            if (id in Bokeh.index) {\n              Bokeh.index[id].model.document.clear();\n              delete Bokeh.index[id];\n            }\n          }\n        }\n      });\n      // Destroy server and session\n      const cmd_destroy = \"import bokeh.io.notebook as ion; ion.destroy_server('\" + server_id + \"')\";\n      cell.notebook.kernel.execute(cmd_destroy);\n    }\n  }\n\n  /**\n   * Handle when a new output is added\n   */\n  function handleAddOutput(event, handle) {\n    const output_area = handle.output_area;\n    const output = handle.output;\n\n    // limit handleAddOutput to display_data with EXEC_MIME_TYPE content only\n    if ((output.output_type != \"display_data\") || (!Object.prototype.hasOwnProperty.call(output.data, EXEC_MIME_TYPE))) {\n      return\n    }\n\n    const toinsert = output_area.element.find(\".\" + CLASS_NAME.split(' ')[0]);\n\n    if (output.metadata[EXEC_MIME_TYPE][\"id\"] !== undefined) {\n      toinsert[toinsert.length - 1].firstChild.textContent = output.data[JS_MIME_TYPE];\n      // store reference to embed id on output_area\n      output_area._bokeh_element_id = output.metadata[EXEC_MIME_TYPE][\"id\"];\n    }\n    if (output.metadata[EXEC_MIME_TYPE][\"server_id\"] !== undefined) {\n      const bk_div = document.createElement(\"div\");\n      bk_div.innerHTML = output.data[HTML_MIME_TYPE];\n      const script_attrs = bk_div.children[0].attributes;\n      for (let i = 0; i < script_attrs.length; i++) {\n        toinsert[toinsert.length - 1].firstChild.setAttribute(script_attrs[i].name, script_attrs[i].value);\n        toinsert[toinsert.length - 1].firstChild.textContent = bk_div.children[0].textContent\n      }\n      // store reference to server id on output_area\n      output_area._bokeh_server_id = output.metadata[EXEC_MIME_TYPE][\"server_id\"];\n    }\n  }\n\n  function register_renderer(events, OutputArea) {\n\n    function append_mime(data, metadata, element) {\n      // create a DOM node to render to\n      const toinsert = this.create_output_subarea(\n        metadata,\n        CLASS_NAME,\n        EXEC_MIME_TYPE\n      );\n      this.keyboard_manager.register_events(toinsert);\n      // Render to node\n      const props = {data: data, metadata: metadata[EXEC_MIME_TYPE]};\n      render(props, toinsert[toinsert.length - 1]);\n      element.append(toinsert);\n      return toinsert\n    }\n\n    /* Handle when an output is cleared or removed */\n    events.on('clear_output.CodeCell', handleClearOutput);\n    events.on('delete.Cell', handleClearOutput);\n\n    /* Handle when a new output is added */\n    events.on('output_added.OutputArea', handleAddOutput);\n\n    /**\n     * Register the mime type and append_mime function with output_area\n     */\n    OutputArea.prototype.register_mime_type(EXEC_MIME_TYPE, append_mime, {\n      /* Is output safe? */\n      safe: true,\n      /* Index of renderer in `output_area.display_order` */\n      index: 0\n    });\n  }\n\n  // register the mime type if in Jupyter Notebook environment and previously unregistered\n  if (root.Jupyter !== undefined) {\n    const events = require('base/js/events');\n    const OutputArea = require('notebook/js/outputarea').OutputArea;\n\n    if (OutputArea.prototype.mime_types().indexOf(EXEC_MIME_TYPE) == -1) {\n      register_renderer(events, OutputArea);\n    }\n  }\n\n  \n  if (typeof (root._bokeh_timeout) === \"undefined\" || force === true) {\n    root._bokeh_timeout = Date.now() + 5000;\n    root._bokeh_failed_load = false;\n  }\n\n  const NB_LOAD_WARNING = {'data': {'text/html':\n     \"<div style='background-color: #fdd'>\\n\"+\n     \"<p>\\n\"+\n     \"BokehJS does not appear to have successfully loaded. If loading BokehJS from CDN, this \\n\"+\n     \"may be due to a slow or bad network connection. Possible fixes:\\n\"+\n     \"</p>\\n\"+\n     \"<ul>\\n\"+\n     \"<li>re-rerun `output_notebook()` to attempt to load from CDN again, or</li>\\n\"+\n     \"<li>use INLINE resources instead, as so:</li>\\n\"+\n     \"</ul>\\n\"+\n     \"<code>\\n\"+\n     \"from bokeh.resources import INLINE\\n\"+\n     \"output_notebook(resources=INLINE)\\n\"+\n     \"</code>\\n\"+\n     \"</div>\"}};\n\n  function display_loaded() {\n    const el = document.getElementById(\"28512\");\n    if (el != null) {\n      el.textContent = \"BokehJS is loading...\";\n    }\n    if (root.Bokeh !== undefined) {\n      if (el != null) {\n        el.textContent = \"BokehJS \" + root.Bokeh.version + \" successfully loaded.\";\n      }\n    } else if (Date.now() < root._bokeh_timeout) {\n      setTimeout(display_loaded, 100)\n    }\n  }\n\n\n  function run_callbacks() {\n    try {\n      root._bokeh_onload_callbacks.forEach(function(callback) {\n        if (callback != null)\n          callback();\n      });\n    } finally {\n      delete root._bokeh_onload_callbacks\n    }\n    console.debug(\"Bokeh: all callbacks have finished\");\n  }\n\n  function load_libs(css_urls, js_urls, callback) {\n    if (css_urls == null) css_urls = [];\n    if (js_urls == null) js_urls = [];\n\n    root._bokeh_onload_callbacks.push(callback);\n    if (root._bokeh_is_loading > 0) {\n      console.debug(\"Bokeh: BokehJS is being loaded, scheduling callback at\", now());\n      return null;\n    }\n    if (js_urls == null || js_urls.length === 0) {\n      run_callbacks();\n      return null;\n    }\n    console.debug(\"Bokeh: BokehJS not loaded, scheduling load and callback at\", now());\n    root._bokeh_is_loading = css_urls.length + js_urls.length;\n\n    function on_load() {\n      root._bokeh_is_loading--;\n      if (root._bokeh_is_loading === 0) {\n        console.debug(\"Bokeh: all BokehJS libraries/stylesheets loaded\");\n        run_callbacks()\n      }\n    }\n\n    function on_error(url) {\n      console.error(\"failed to load \" + url);\n    }\n\n    for (let i = 0; i < css_urls.length; i++) {\n      const url = css_urls[i];\n      const element = document.createElement(\"link\");\n      element.onload = on_load;\n      element.onerror = on_error.bind(null, url);\n      element.rel = \"stylesheet\";\n      element.type = \"text/css\";\n      element.href = url;\n      console.debug(\"Bokeh: injecting link tag for BokehJS stylesheet: \", url);\n      document.body.appendChild(element);\n    }\n\n    for (let i = 0; i < js_urls.length; i++) {\n      const url = js_urls[i];\n      const element = document.createElement('script');\n      element.onload = on_load;\n      element.onerror = on_error.bind(null, url);\n      element.async = false;\n      element.src = url;\n      console.debug(\"Bokeh: injecting script tag for BokehJS library: \", url);\n      document.head.appendChild(element);\n    }\n  };\n\n  function inject_raw_css(css) {\n    const element = document.createElement(\"style\");\n    element.appendChild(document.createTextNode(css));\n    document.body.appendChild(element);\n  }\n\n  \n  const js_urls = [\"https://cdn.bokeh.org/bokeh/release/bokeh-2.4.2.min.js\", \"https://cdn.bokeh.org/bokeh/release/bokeh-gl-2.4.2.min.js\", \"https://cdn.bokeh.org/bokeh/release/bokeh-widgets-2.4.2.min.js\", \"https://cdn.bokeh.org/bokeh/release/bokeh-tables-2.4.2.min.js\", \"https://cdn.bokeh.org/bokeh/release/bokeh-mathjax-2.4.2.min.js\"];\n  const css_urls = [];\n  \n\n  const inline_js = [\n    function(Bokeh) {\n      Bokeh.set_log_level(\"info\");\n    },\n    function(Bokeh) {\n    \n    \n    }\n  ];\n\n  function run_inline_js() {\n    \n    if (root.Bokeh !== undefined || force === true) {\n      \n    for (let i = 0; i < inline_js.length; i++) {\n      inline_js[i].call(root, root.Bokeh);\n    }\n    if (force === true) {\n        display_loaded();\n      }} else if (Date.now() < root._bokeh_timeout) {\n      setTimeout(run_inline_js, 100);\n    } else if (!root._bokeh_failed_load) {\n      console.log(\"Bokeh: BokehJS failed to load within specified timeout.\");\n      root._bokeh_failed_load = true;\n    } else if (force !== true) {\n      const cell = $(document.getElementById(\"28512\")).parents('.cell').data().cell;\n      cell.output_area.append_execute_result(NB_LOAD_WARNING)\n    }\n\n  }\n\n  if (root._bokeh_is_loading === 0) {\n    console.debug(\"Bokeh: BokehJS loaded, going straight to plotting\");\n    run_inline_js();\n  } else {\n    load_libs(css_urls, js_urls, function() {\n      console.debug(\"Bokeh: BokehJS plotting callback run at\", now());\n      run_inline_js();\n    });\n  }\n}(window));",
      "application/vnd.bokehjs_load.v0+json": ""
     },
     "metadata": {},
     "output_type": "display_data"
    },
    {
     "data": {
      "text/html": [
       "\n",
       "\n",
       "\n",
       "\n",
       "\n",
       "\n",
       "  <div class=\"bk-root\" id=\"75f9087d-e013-4aba-af6e-8a86ff2970bd\" data-root-id=\"28514\"></div>\n"
      ]
     },
     "metadata": {},
     "output_type": "display_data"
    },
    {
     "data": {
      "application/javascript": "(function(root) {\n  function embed_document(root) {\n    \n  const docs_json = {\"e9d42908-ab1c-4029-9bb9-1201667dab6c\":{\"defs\":[],\"roots\":{\"references\":[{\"attributes\":{\"below\":[{\"id\":\"28523\"}],\"center\":[{\"id\":\"28526\"},{\"id\":\"28530\"},{\"id\":\"28564\"},{\"id\":\"28566\"}],\"left\":[{\"id\":\"28527\"}],\"renderers\":[{\"id\":\"28551\"}],\"title\":{\"id\":\"28553\"},\"toolbar\":{\"id\":\"28539\"},\"x_range\":{\"id\":\"28515\"},\"x_scale\":{\"id\":\"28519\"},\"y_range\":{\"id\":\"28517\"},\"y_scale\":{\"id\":\"28521\"}},\"id\":\"28514\",\"subtype\":\"Figure\",\"type\":\"Plot\"},{\"attributes\":{\"line_color\":\"Blue\",\"line_width\":2,\"x\":{\"field\":\"x\"},\"y\":{\"field\":\"y\"}},\"id\":\"28548\",\"type\":\"Line\"},{\"attributes\":{\"line_alpha\":0.1,\"line_color\":\"Blue\",\"line_width\":2,\"x\":{\"field\":\"x\"},\"y\":{\"field\":\"y\"}},\"id\":\"28549\",\"type\":\"Line\"},{\"attributes\":{\"line_alpha\":0.2,\"line_color\":\"Blue\",\"line_width\":2,\"x\":{\"field\":\"x\"},\"y\":{\"field\":\"y\"}},\"id\":\"28550\",\"type\":\"Line\"},{\"attributes\":{\"overlay\":{\"id\":\"28538\"}},\"id\":\"28533\",\"type\":\"BoxZoomTool\"},{\"attributes\":{\"base\":{\"field\":\"base\"},\"coordinates\":null,\"fill_color\":\"LightGreen\",\"group\":null,\"level\":\"underlay\",\"line_color\":\"red\",\"line_width\":2,\"lower\":{\"field\":\"lower\"},\"source\":{\"id\":\"28513\"},\"upper\":{\"field\":\"upper\"}},\"id\":\"28566\",\"type\":\"Band\"},{\"attributes\":{},\"id\":\"28532\",\"type\":\"WheelZoomTool\"},{\"attributes\":{\"data\":{\"base\":{\"__ndarray__\":\"AQAAAAIAAAADAAAABAAAAAUAAAAGAAAABwAAAAgAAAAJAAAACgAAAAsAAAAMAAAADQAAAA4AAAAPAAAAEAAAABEAAAASAAAAEwAAABQAAAAVAAAAFgAAABcAAAAYAAAAGQAAABoAAAAbAAAAHAAAAB0AAAAeAAAAHwAAACAAAAAhAAAAIgAAACMAAAAkAAAAJQAAACYAAAAnAAAAKAAAACkAAAAqAAAAKwAAACwAAAAtAAAALgAAAC8AAAAwAAAAMQAAADIAAAAzAAAANAAAADUAAAA2AAAANwAAADgAAAA5AAAAOgAAADsAAAA8AAAAPQAAAD4AAAA/AAAAQAAAAEEAAABCAAAAQwAAAEQAAABFAAAARgAAAEcAAABIAAAASQAAAEoAAABLAAAATAAAAE0AAABOAAAATwAAAFAAAABRAAAAUgAAAFMAAABUAAAAVQAAAFYAAABXAAAAWAAAAFkAAABaAAAAWwAAAFwAAABdAAAAXgAAAF8AAABgAAAAYQAAAGIAAABjAAAAZAAAAGUAAABmAAAAZwAAAGgAAABpAAAAagAAAGsAAABsAAAAbQAAAG4AAABvAAAAcAAAAHEAAAByAAAAcwAAAHQAAAB1AAAAdgAAAHcAAAB4AAAAeQAAAHoAAAB7AAAAfAAAAH0AAAB+AAAAfwAAAIAAAACBAAAAggAAAIMAAACEAAAAhQAAAIYAAACHAAAAiAAAAIkAAACKAAAAiwAAAIwAAACNAAAAjgAAAI8AAACQAAAAkQAAAJIAAACTAAAAlAAAAJUAAACWAAAAlwAAAJgAAACZAAAAmgAAAJsAAACcAAAAnQAAAJ4AAACfAAAAoAAAAKEAAACiAAAAowAAAKQAAAClAAAApgAAAKcAAACoAAAAqQAAAKoAAACrAAAArAAAAK0AAACuAAAArwAAALAAAACxAAAAsgAAALMAAAC0AAAAtQAAALYAAAC3AAAAuAAAALkAAAC6AAAAuwAAALwAAAC9AAAAvgAAAL8AAADAAAAAwQAAAMIAAADDAAAAxAAAAMUAAADGAAAAxwAAAMgAAADJAAAAygAAAMsAAADMAAAAzQAAAM4AAADPAAAA0AAAANEAAADSAAAA0wAAANQAAADVAAAA1gAAANcAAADYAAAA2QAAANoAAADbAAAA3AAAAN0AAADeAAAA3wAAAOAAAADhAAAA4gAAAOMAAADkAAAA5QAAAOYAAADnAAAA6AAAAOkAAADqAAAA6wAAAOwAAADtAAAA7gAAAO8AAADwAAAA8QAAAPIAAADzAAAA9AAAAPUAAAD2AAAA9wAAAPgAAAD5AAAA+gAAAPsAAAD8AAAA/QAAAP4AAAD/AAAAAAEAAAEBAAACAQAAAwEAAAQBAAAFAQAABgEAAAcBAAAIAQAACQEAAAoBAAALAQAADAEAAA0BAAAOAQAADwEAABABAAARAQAAEgEAABMBAAAUAQAAFQEAABYBAAAXAQAAGAEAABkBAAAaAQAAGwEAABwBAAAdAQAAHgEAAB8BAAAgAQAAIQEAACIBAAAjAQAAJAEAACUBAAAmAQAAJwEAACgBAAApAQAAKgEAACsBAAAsAQAALQEAAC4BAAAvAQAAMAEAADEBAAAyAQAAMwEAADQBAAA1AQAANgEAADcBAAA4AQAAOQEAADoBAAA7AQAAPAEAAD0BAAA+AQAAPwEAAEABAABBAQAAQgEAAEMBAABEAQAARQEAAEYBAABHAQAASAEAAEkBAABKAQAASwEAAEwBAABNAQAATgEAAE8BAABQAQAAUQEAAFIBAABTAQAAVAEAAFUBAABWAQAAVwEAAFgBAABZAQAAWgEAAFsBAABcAQAAXQEAAF4BAABfAQAAYAEAAGEBAABiAQAAYwEAAGQBAABlAQAAZgEAAGcBAABoAQAAaQEAAGoBAABrAQAAbAEAAG0BAAA=\",\"dtype\":\"int32\",\"order\":\"little\",\"shape\":[365]},\"lower\":{\"__ndarray__\":\"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\",\"dtype\":\"float64\",\"order\":\"little\",\"shape\":[365]},\"upper\":{\"__ndarray__\":\"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\",\"dtype\":\"float64\",\"order\":\"little\",\"shape\":[365]}},\"selected\":{\"id\":\"29305\"},\"selection_policy\":{\"id\":\"29304\"}},\"id\":\"28513\",\"type\":\"ColumnDataSource\"},{\"attributes\":{\"bottom_units\":\"screen\",\"coordinates\":null,\"fill_alpha\":0.5,\"fill_color\":\"lightgrey\",\"group\":null,\"left_units\":\"screen\",\"level\":\"overlay\",\"line_alpha\":1.0,\"line_color\":\"black\",\"line_dash\":[4,4],\"line_width\":2,\"right_units\":\"screen\",\"syncable\":false,\"top_units\":\"screen\"},\"id\":\"28538\",\"type\":\"BoxAnnotation\"},{\"attributes\":{},\"id\":\"28521\",\"type\":\"LinearScale\"},{\"attributes\":{},\"id\":\"28537\",\"type\":\"ZoomOutTool\"},{\"attributes\":{},\"id\":\"28531\",\"type\":\"PanTool\"},{\"attributes\":{},\"id\":\"28556\",\"type\":\"BasicTickFormatter\"},{\"attributes\":{},\"id\":\"28535\",\"type\":\"SaveTool\"},{\"attributes\":{},\"id\":\"28524\",\"type\":\"BasicTicker\"},{\"attributes\":{\"coordinates\":null,\"group\":null,\"text\":\"Band is maximum and minimum temperatures of the last years (2000-)\"},\"id\":\"28553\",\"type\":\"Title\"},{\"attributes\":{},\"id\":\"28534\",\"type\":\"ResetTool\"},{\"attributes\":{},\"id\":\"28528\",\"type\":\"BasicTicker\"},{\"attributes\":{\"axis_label\":\"Temperature (C)\",\"coordinates\":null,\"formatter\":{\"id\":\"28556\"},\"group\":null,\"major_label_policy\":{\"id\":\"28557\"},\"ticker\":{\"id\":\"28528\"}},\"id\":\"28527\",\"type\":\"LinearAxis\"},{\"attributes\":{\"end\":40,\"start\":-20},\"id\":\"28517\",\"type\":\"Range1d\"},{\"attributes\":{\"click_policy\":\"hide\",\"coordinates\":null,\"group\":null,\"items\":[{\"id\":\"28565\"}],\"location\":\"top_left\"},\"id\":\"28564\",\"type\":\"Legend\"},{\"attributes\":{\"axis_label\":\"Days\",\"coordinates\":null,\"formatter\":{\"id\":\"28559\"},\"group\":null,\"major_label_policy\":{\"id\":\"28560\"},\"ticker\":{\"id\":\"28524\"}},\"id\":\"28523\",\"type\":\"LinearAxis\"},{\"attributes\":{\"label\":{\"value\":\"Day Average Temperature 2018\"},\"renderers\":[{\"id\":\"28551\"}]},\"id\":\"28565\",\"type\":\"LegendItem\"},{\"attributes\":{\"axis\":{\"id\":\"28527\"},\"coordinates\":null,\"dimension\":1,\"group\":null,\"ticker\":null},\"id\":\"28530\",\"type\":\"Grid\"},{\"attributes\":{},\"id\":\"28562\",\"type\":\"Selection\"},{\"attributes\":{},\"id\":\"28557\",\"type\":\"AllLabels\"},{\"attributes\":{},\"id\":\"28560\",\"type\":\"AllLabels\"},{\"attributes\":{\"coordinates\":null,\"data_source\":{\"id\":\"28547\"},\"glyph\":{\"id\":\"28548\"},\"group\":null,\"hover_glyph\":null,\"muted_glyph\":{\"id\":\"28550\"},\"nonselection_glyph\":{\"id\":\"28549\"},\"view\":{\"id\":\"28552\"}},\"id\":\"28551\",\"type\":\"GlyphRenderer\"},{\"attributes\":{},\"id\":\"29305\",\"type\":\"Selection\"},{\"attributes\":{},\"id\":\"29304\",\"type\":\"UnionRenderers\"},{\"attributes\":{\"data\":{\"x\":{\"__ndarray__\":\"AQAAAAIAAAADAAAABAAAAAUAAAAGAAAABwAAAAgAAAAJAAAACgAAAAsAAAAMAAAADQAAAA4AAAAPAAAAEAAAABEAAAASAAAAEwAAABQAAAAVAAAAFgAAABcAAAAYAAAAGQAAABoAAAAbAAAAHAAAAB0AAAAeAAAAHwAAACAAAAAhAAAAIgAAACMAAAAkAAAAJQAAACYAAAAnAAAAKAAAACkAAAAqAAAAKwAAACwAAAAtAAAALgAAAC8AAAAwAAAAMQAAADIAAAAzAAAANAAAADUAAAA2AAAANwAAADgAAAA5AAAAOgAAADsAAAA8AAAAPQAAAD4AAAA/AAAAQAAAAEEAAABCAAAAQwAAAEQAAABFAAAARgAAAEcAAABIAAAASQAAAEoAAABLAAAATAAAAE0AAABOAAAATwAAAFAAAABRAAAAUgAAAFMAAABUAAAAVQAAAFYAAABXAAAAWAAAAFkAAABaAAAAWwAAAFwAAABdAAAAXgAAAF8AAABgAAAAYQAAAGIAAABjAAAAZAAAAGUAAABmAAAAZwAAAGgAAABpAAAAagAAAGsAAABsAAAAbQAAAG4AAABvAAAAcAAAAHEAAAByAAAAcwAAAHQAAAB1AAAAdgAAAHcAAAB4AAAAeQAAAHoAAAB7AAAAfAAAAH0AAAB+AAAAfwAAAIAAAACBAAAAggAAAIMAAACEAAAAhQAAAIYAAACHAAAAiAAAAIkAAACKAAAAiwAAAIwAAACNAAAAjgAAAI8AAACQAAAAkQAAAJIAAACTAAAAlAAAAJUAAACWAAAAlwAAAJgAAACZAAAAmgAAAJsAAACcAAAAnQAAAJ4AAACfAAAAoAAAAKEAAACiAAAAowAAAKQAAAClAAAApgAAAKcAAACoAAAAqQAAAKoAAACrAAAArAAAAK0AAACuAAAArwAAALAAAACxAAAAsgAAALMAAAC0AAAAtQAAALYAAAC3AAAAuAAAALkAAAC6AAAAuwAAALwAAAC9AAAAvgAAAL8AAADAAAAAwQAAAMIAAADDAAAAxAAAAMUAAADGAAAAxwAAAMgAAADJAAAAygAAAMsAAADMAAAAzQAAAM4AAADPAAAA0AAAANEAAADSAAAA0wAAANQAAADVAAAA1gAAANcAAADYAAAA2QAAANoAAADbAAAA3AAAAN0AAADeAAAA3wAAAOAAAADhAAAA4gAAAOMAAADkAAAA5QAAAOYAAADnAAAA6AAAAOkAAADqAAAA6wAAAOwAAADtAAAA7gAAAO8AAADwAAAA8QAAAPIAAADzAAAA9AAAAPUAAAD2AAAA9wAAAPgAAAD5AAAA+gAAAPsAAAD8AAAA/QAAAP4AAAD/AAAAAAEAAAEBAAACAQAAAwEAAAQBAAAFAQAABgEAAAcBAAAIAQAACQEAAAoBAAALAQAADAEAAA0BAAAOAQAADwEAABABAAARAQAAEgEAABMBAAAUAQAAFQEAABYBAAAXAQAAGAEAABkBAAAaAQAAGwEAABwBAAAdAQAAHgEAAB8BAAAgAQAAIQEAACIBAAAjAQAAJAEAACUBAAAmAQAAJwEAACgBAAApAQAAKgEAACsBAAAsAQAALQEAAC4BAAAvAQAAMAEAADEBAAAyAQAAMwEAADQBAAA1AQAANgEAADcBAAA4AQAAOQEAADoBAAA7AQAAPAEAAD0BAAA+AQAAPwEAAEABAABBAQAAQgEAAEMBAABEAQAARQEAAEYBAABHAQAASAEAAEkBAABKAQAASwEAAEwBAABNAQAATgEAAE8BAABQAQAAUQEAAFIBAABTAQAAVAEAAFUBAABWAQAAVwEAAFgBAABZAQAAWgEAAFsBAABcAQAAXQEAAF4BAABfAQAAYAEAAGEBAABiAQAAYwEAAGQBAABlAQAAZgEAAGcBAABoAQAAaQEAAGoBAABrAQAAbAEAAG0BAAA=\",\"dtype\":\"int32\",\"order\":\"little\",\"shape\":[365]},\"y\":{\"__ndarray__\":\"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\",\"dtype\":\"float64\",\"order\":\"little\",\"shape\":[365]}},\"selected\":{\"id\":\"28562\"},\"selection_policy\":{\"id\":\"28561\"}},\"id\":\"28547\",\"type\":\"ColumnDataSource\"},{\"attributes\":{},\"id\":\"28559\",\"type\":\"BasicTickFormatter\"},{\"attributes\":{\"source\":{\"id\":\"28547\"}},\"id\":\"28552\",\"type\":\"CDSView\"},{\"attributes\":{\"axis\":{\"id\":\"28523\"},\"coordinates\":null,\"group\":null,\"ticker\":null},\"id\":\"28526\",\"type\":\"Grid\"},{\"attributes\":{\"tools\":[{\"id\":\"28531\"},{\"id\":\"28532\"},{\"id\":\"28533\"},{\"id\":\"28534\"},{\"id\":\"28535\"},{\"id\":\"28536\"},{\"id\":\"28537\"}]},\"id\":\"28539\",\"type\":\"Toolbar\"},{\"attributes\":{},\"id\":\"28561\",\"type\":\"UnionRenderers\"},{\"attributes\":{},\"id\":\"28519\",\"type\":\"LinearScale\"},{\"attributes\":{},\"id\":\"28536\",\"type\":\"ZoomInTool\"},{\"attributes\":{},\"id\":\"28515\",\"type\":\"DataRange1d\"}],\"root_ids\":[\"28514\"]},\"title\":\"Bokeh Application\",\"version\":\"2.4.2\"}};\n  const render_items = [{\"docid\":\"e9d42908-ab1c-4029-9bb9-1201667dab6c\",\"root_ids\":[\"28514\"],\"roots\":{\"28514\":\"75f9087d-e013-4aba-af6e-8a86ff2970bd\"}}];\n  root.Bokeh.embed.embed_items_notebook(docs_json, render_items);\n\n  }\n  if (root.Bokeh !== undefined) {\n    embed_document(root);\n  } else {\n    let attempts = 0;\n    const timer = setInterval(function(root) {\n      if (root.Bokeh !== undefined) {\n        clearInterval(timer);\n        embed_document(root);\n      } else {\n        attempts++;\n        if (attempts > 100) {\n          clearInterval(timer);\n          console.log(\"Bokeh: ERROR: Unable to run BokehJS code because BokehJS library is missing\");\n        }\n      }\n    }, 10, root)\n  }\n})(window);",
      "application/vnd.bokehjs_exec.v0+json": ""
     },
     "metadata": {
      "application/vnd.bokehjs_exec.v0+json": {
       "id": "28514"
      }
     },
     "output_type": "display_data"
    }
   ],
   "source": [
    "x = date\n",
    "y_before_max = spline_before_max(x)\n",
    "y_before_min = spline_before_min(x)\n",
    "y_after_max = spline_after_max(x)\n",
    "y_after_min = spline_after_min(x)\n",
    "y_after_mean = spline_after_mean(x)\n",
    "\n",
    "from bokeh.io import output_notebook\n",
    "from bokeh.plotting import figure, show\n",
    "from bokeh.layouts import gridplot\n",
    "from bokeh.io import output_notebook\n",
    "from bokeh.plotting import ColumnDataSource\n",
    "from bokeh.models import CustomJS, Dropdown\n",
    "output_notebook()\n",
    "from bokeh.models import Band\n",
    "\n",
    "from scipy.ndimage import gaussian_filter1d\n",
    "\n",
    "y_after_mean_smooth = gaussian_filter1d(y_after_mean, 2)\n",
    "y_before_min_smooth = gaussian_filter1d(y_before_min, 2)\n",
    "y_before_max_smooth = gaussian_filter1d(y_before_max, 2)\n",
    "\n",
    "source = ColumnDataSource({\n",
    "        'base': x,\n",
    "        'lower': y_before_min_smooth,\n",
    "        'upper': y_before_max_smooth\n",
    "        })\n",
    "        \n",
    "band = ''\n",
    "\n",
    "# band = Band(base='base', lower='lower', upper='upper', source=source, level='underlay',\n",
    "#             fill_alpha=0.5, line_width=1, line_color='black')\n",
    "\n",
    "TOOLS = \"pan,wheel_zoom,box_zoom,reset,save,zoom_in,zoom_out\"\n",
    "p = figure(tools=TOOLS, y_range=(-20,40))\n",
    "\n",
    "p.line(x, y_after_mean_smooth, line_width = 2, color = 'Blue', legend_label='Day Average Temperature 2018')\n",
    "band = Band(base='base', lower='lower', upper='upper', source=source, level='underlay',\n",
    "            fill_alpha=0.4, line_width=2, line_color='red', fill_color = \"LightGreen\")\n",
    "\n",
    "# p.triangle(x='time', y='glucose', line_width = 4, source=source, color = 'blue', legend_label='Data')\n",
    "# p.line(x='time', y='rolling mean', line_width = 2, source=source, color = 'green', legend_label='Rolling mean')\n",
    "\n",
    "p.title.text = 'Band is maximum and minimum temperatures of the last years (2000-)'\n",
    "p.legend.location = \"top_left\"\n",
    "p.legend.click_policy=\"hide\"\n",
    "\n",
    "p.xaxis.axis_label = 'Days'\n",
    "p.yaxis.axis_label = 'Temperature (C)'\n",
    "\n",
    "p.add_layout(band)\n",
    "show(p)\n",
    "\n",
    "\n",
    "\n"
   ]
  },
  {
   "cell_type": "markdown",
   "metadata": {},
   "source": [
    "<details>    \n",
    "<summary>\n",
    "    <font size=\"3\" color=\"darkgreen\"><b>Hints</b></font>\n",
    "</summary>\n",
    "<ul><li>use from bokeh.models import Band</li>\n",
    "    <li>use ColumnDataSource to parse data arrays</li>\n",
    "    <li>look for xaxis tick formatters</li>\n",
    "</ul>\n",
    "</details>"
   ]
  },
  {
   "cell_type": "markdown",
   "metadata": {},
   "source": [
    "---"
   ]
  },
  {
   "cell_type": "markdown",
   "metadata": {},
   "source": [
    "<a name='5'></a>\n",
    "## Part 6: Challenge"
   ]
  },
  {
   "cell_type": "markdown",
   "metadata": {},
   "source": [
    "Make a widget in which you can select the year range for the multiyear set. Or maybe a widget were you choose a different station. Add this to your layout to make the plot interactive. Add another widget to select or deselect the smoother. Inspiration: https://demo.bokeh.org/weather"
   ]
  },
  {
   "cell_type": "code",
   "execution_count": 498,
   "metadata": {},
   "outputs": [],
   "source": [
    "######################### I will do this later\n",
    "\n",
    "## Make a slider to choose years with panel?\n",
    "\n",
    "## Connect this slider to the years through dictionary\n",
    "\n",
    "## Add dropdown to choose different station\n",
    "\n",
    "## Connect dropdown to station choosing"
   ]
  }
 ],
 "metadata": {
  "kernelspec": {
   "display_name": "Python 3",
   "language": "python",
   "name": "python3"
  },
  "language_info": {
   "codemirror_mode": {
    "name": "ipython",
    "version": 3
   },
   "file_extension": ".py",
   "mimetype": "text/x-python",
   "name": "python",
   "nbconvert_exporter": "python",
   "pygments_lexer": "ipython3",
   "version": "3.9.7"
  }
 },
 "nbformat": 4,
 "nbformat_minor": 2
}
