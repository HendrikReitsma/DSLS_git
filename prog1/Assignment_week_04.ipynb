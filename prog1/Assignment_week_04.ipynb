{
 "cells": [
  {
   "attachments": {},
   "cell_type": "markdown",
   "metadata": {},
   "source": [
    "# Week 04 Assignment weather data\n",
    "\n",
    "Welcome to week four of this course programming 1. Analyzing time related data such as estimating seasonal effect, or year effect might be a challenge. How to filter the essential information from the noise? How to apply signal analysis with noisy data. How to make compact useful visualizations? Python has several constructs to handle date time related data. The relevant classes for making plots are Locators and Formatters. Locators determine where the ticks are, and formatters control the formatting of tick labels. The relevant class for date time data is the pandas datetime data type, which has methods like resample and several possibilities to display data (frequencies). As a study case we will work with weather data. If you have data that fits the learning goals, you can bring your own data.\n",
    "\n",
    "Keywords: signal processing, smoothing, resample, formatters and locators, datetime object\n",
    "\n",
    "More to read: \n",
    "\n",
    "- https://fennaf.gitbook.io/bfvm19prog1/\n",
    "- https://machinelearningmastery.com/time-series-data-visualization-with-python/\n",
    "- https://towardsdatascience.com/how-to-plot-time-series-86b5358197d6\n",
    "- In the https://pandas.pydata.org/docs/reference/offset_frequency.html you can find more about frequencies and in the documentation\n",
    "- https://pandas.pydata.org/pandas-docs/stable/user_guide/timeseries.html you can read all the methods of this datetime object.\n",
    "\n",
    "Learning objectives\n",
    "\n",
    "- load, inspect and clean a dataset\n",
    "- reshape dataframes to group data in a certain frequency\n",
    "- apply smoothing technologies\n",
    "- Create useful visualisation with timeseries data\n",
    "- Maintain development environment \n",
    "- Apply coding standards and FAIR principles\n",
    "\n",
    "\n",
    "## Assignment\n",
    "\n",
    "You will to organise your data into the required format and apply smoothing. In this assignment we will work with weatherdata from the KNMI. A subset of weatherdata is for you available in the file: `KNMI_20181231`. The data consist of several stations with daily weather data of several years. Your task is to make a plot similar to the plot below. \n",
    "\n",
    "<img src=\"../images/weather.png\" alt=\"drawing\" width=\"400\"/>\n",
    "\n",
    "\n",
    "Furthermore the plot needs the following enhancements\n",
    "\n",
    "1. proper titles and ticks\n",
    "2. widgets selecting a particular year or all years\n",
    "3. lines need to be smoothed\n",
    "3. legends needs to be added\n",
    "\n",
    "Use your creativity. Consider colors, alpha settings, sizes etc. \n",
    "\n",
    "Learning outcomes\n",
    "\n",
    "- load, inspect and clean a dataset \n",
    "- reformat dataframes\n",
    "- apply smoothing technologies\n",
    "- visualize timeseries data\n",
    "\n",
    "The assignment consists of 6 parts:\n",
    "\n",
    "- [part 1: load the data](#0)\n",
    "- [part 2: clean the data](#1)\n",
    "- [part 3: reformat data](#2)\n",
    "- [part 4: smooth the data](#3)\n",
    "- [part 5: visualize the data](#4)\n",
    "- [part 6: Challenge](#5)\n",
    "\n",
    "Part 1 and 5 are mandatory, part 6 is optional (bonus)\n",
    "To pass the assingnment you need to a score of 60%. \n",
    "\n",
    "\n",
    "NB if you want to make a plot with more actual data you can download data from https://openweathermap.org/api \n"
   ]
  },
  {
   "cell_type": "markdown",
   "metadata": {},
   "source": [
    "---"
   ]
  },
  {
   "cell_type": "markdown",
   "metadata": {},
   "source": [
    "<a name='0'></a>\n",
    "## Part 1: Load the data\n",
    "\n",
    "Either load the dataset `KNMI_20181231.csv` or `KNMI_20181231.txt.tsv`. The dataheaders contain spaces and are not very self explainable. Change this into more readable ones. Select data from a station. Station 270 is in the neighborhood of Groningen. For our plot we only need the the mean, minimum and maximum temperature. Of course you are welcome to select other data if you think it might be useful for your visualization. The data should look something like this:\n"
   ]
  },
  {
   "cell_type": "raw",
   "metadata": {},
   "source": [
    "       station       Date  Tmean  Tmin  Tmax\n",
    "97641      270 2000-01-01   42.0  -4.0  79.0\n",
    "97642      270 2000-01-02   55.0  33.0  74.0\n",
    "97643      270 2000-01-03   74.0  49.0  89.0\n",
    "97644      270 2000-01-04   46.0  22.0  75.0\n",
    "97645      270 2000-01-05   41.0  14.0  56.0"
   ]
  },
  {
   "cell_type": "code",
   "execution_count": 14,
   "metadata": {},
   "outputs": [
    {
     "name": "stderr",
     "output_type": "stream",
     "text": [
      "C:\\Users\\Hendrik\\anaconda3\\lib\\site-packages\\IPython\\core\\interactiveshell.py:3444: DtypeWarning: Columns (2,3,4,5,6) have mixed types.Specify dtype option on import or set low_memory=False.\n",
      "  exec(code_obj, self.user_global_ns, self.user_ns)\n"
     ]
    }
   ],
   "source": [
    "# SOURCE: KONINKLIJK NEDERLANDS METEOROLOGISCH INSTITUUT (KNMI)\n",
    "#\n",
    "#\n",
    "# STN      LON(east)   LAT(north)     ALT(m)  NAME\n",
    "# 209:         4.518       52.465       0.00  IJMOND\n",
    "# 210:         4.430       52.171      -0.20  VALKENBURG\n",
    "# 215:         4.437       52.141      -1.10  VOORSCHOTEN\n",
    "# 225:         4.555       52.463       4.40  IJMUIDEN\n",
    "# 235:         4.781       52.928       1.20  DE KOOY\n",
    "# 240:         4.790       52.318      -3.30  SCHIPHOL\n",
    "# 242:         4.921       53.241      10.80  VLIELAND\n",
    "# 248:         5.174       52.634       0.80  WIJDENES\n",
    "# 249:         4.979       52.644      -2.40  BERKHOUT\n",
    "# 251:         5.346       53.392       0.70  HOORN (TERSCHELLING)\n",
    "# 257:         4.603       52.506       8.50  WIJK AAN ZEE\n",
    "# 258:         5.401       52.649       7.30  HOUTRIBDIJK\n",
    "# 260:         5.180       52.100       1.90  DE BILT\n",
    "# 265:         5.274       52.130      13.90  SOESTERBERG\n",
    "# 267:         5.384       52.898      -1.30  STAVOREN\n",
    "# 269:         5.520       52.458      -3.70  LELYSTAD\n",
    "# 270:         5.752       53.224       1.20  LEEUWARDEN\n",
    "# 273:         5.888       52.703      -3.30  MARKNESSE\n",
    "# 275:         5.873       52.056      48.20  DEELEN\n",
    "# 277:         6.200       53.413       2.90  LAUWERSOOG\n",
    "# 278:         6.259       52.435       3.60  HEINO\n",
    "# 279:         6.574       52.750      15.80  HOOGEVEEN\n",
    "# 280:         6.585       53.125       5.20  EELDE\n",
    "# 283:         6.657       52.069      29.10  HUPSEL\n",
    "# 285:         6.399       53.575       0.00  HUIBERTGAT\n",
    "# 286:         7.150       53.196      -0.20  NIEUW BEERTA\n",
    "# 290:         6.891       52.274      34.80  TWENTHE\n",
    "# 308:         3.379       51.381       0.00  CADZAND\n",
    "# 310:         3.596       51.442       8.00  VLISSINGEN\n",
    "# 311:         3.672       51.379       0.00  HOOFDPLAAT\n",
    "# 312:         3.622       51.768       0.00  OOSTERSCHELDE\n",
    "# 313:         3.242       51.505       0.00  VLAKTE V.D. RAAN\n",
    "# 315:         3.998       51.447       0.00  HANSWEERT\n",
    "# 316:         3.694       51.657       0.00  SCHAAR\n",
    "# 319:         3.861       51.226       1.70  WESTDORPE\n",
    "# 323:         3.884       51.527       1.40  WILHELMINADORP\n",
    "# 324:         4.006       51.596       0.00  STAVENISSE\n",
    "# 330:         4.122       51.992      11.90  HOEK VAN HOLLAND\n",
    "# 331:         4.193       51.480       0.00  THOLEN\n",
    "# 340:         4.342       51.449      19.20  WOENSDRECHT\n",
    "# 343:         4.313       51.893       3.50  R'DAM-GEULHAVEN\n",
    "# 344:         4.447       51.962      -4.30  ROTTERDAM\n",
    "# 348:         4.926       51.970      -0.70  CABAUW\n",
    "# 350:         4.936       51.566      14.90  GILZE-RIJEN\n",
    "# 356:         5.146       51.859       0.70  HERWIJNEN\n",
    "# 370:         5.377       51.451      22.60  EINDHOVEN\n",
    "# 375:         5.707       51.659      22.00  VOLKEL\n",
    "# 377:         5.763       51.198      30.00  ELL\n",
    "# 380:         5.762       50.906     114.30  MAASTRICHT\n",
    "# 391:         6.197       51.498      19.50  ARCEN\n",
    "\n",
    "import pandas as pd\n",
    "df = pd.read_csv(\"data/KNMI_20181231.txt.tsv\", comment='#')\n",
    "\n",
    "\n",
    "\n"
   ]
  },
  {
   "cell_type": "markdown",
   "metadata": {},
   "source": [
    "---"
   ]
  },
  {
   "cell_type": "markdown",
   "metadata": {},
   "source": [
    "<a name='1'></a>\n",
    "## Part 2: Clean the data"
   ]
  },
  {
   "cell_type": "markdown",
   "metadata": {},
   "source": [
    "The data ia not clean. There are empty cells in the dataframe which needs to be replaced with NaN's and the temperature is in centidegrees which needs to be transformed into degrees. The date field needs a datetime format. For visualization convience we would like to remove the leap year. Conduct the cleaning."
   ]
  },
  {
   "cell_type": "code",
   "execution_count": 15,
   "metadata": {
    "scrolled": true
   },
   "outputs": [
    {
     "name": "stdout",
     "output_type": "stream",
     "text": [
      "        STN       Date   TG   TN    TX   SQ    DR    RH\n",
      "97641   270 2000-01-01  4.2 -0.4   7.9  4.9   1.5   1.1\n",
      "97642   270 2000-01-02  5.5  3.3   7.4  1.2   0.0  -0.1\n",
      "97643   270 2000-01-03  7.4  4.9   8.9  0.0  12.4  17.2\n",
      "97644   270 2000-01-04  4.6  2.2   7.5  0.4   1.3   1.1\n",
      "97645   270 2000-01-05  4.1  1.4   5.6  5.6   0.0   0.0\n",
      "...     ...        ...  ...  ...   ...  ...   ...   ...\n",
      "104576  270 2018-12-27  5.7  5.3   6.2  0.0   0.9   0.2\n",
      "104577  270 2018-12-28  7.1  5.8   8.1  0.0   0.0   0.0\n",
      "104578  270 2018-12-29  8.5  6.9  10.2  0.0   1.4   1.8\n",
      "104579  270 2018-12-30  8.0  6.8   9.0  0.0   1.4   0.5\n",
      "104580  270 2018-12-31  8.7  8.2   9.7  3.8   0.0  -0.1\n",
      "\n",
      "[6935 rows x 8 columns]\n"
     ]
    },
    {
     "data": {
      "text/html": [
       "<div>\n",
       "<style scoped>\n",
       "    .dataframe tbody tr th:only-of-type {\n",
       "        vertical-align: middle;\n",
       "    }\n",
       "\n",
       "    .dataframe tbody tr th {\n",
       "        vertical-align: top;\n",
       "    }\n",
       "\n",
       "    .dataframe thead th {\n",
       "        text-align: right;\n",
       "    }\n",
       "</style>\n",
       "<table border=\"1\" class=\"dataframe\">\n",
       "  <thead>\n",
       "    <tr style=\"text-align: right;\">\n",
       "      <th></th>\n",
       "      <th>STN</th>\n",
       "      <th>TG</th>\n",
       "      <th>TN</th>\n",
       "      <th>TX</th>\n",
       "      <th>SQ</th>\n",
       "      <th>DR</th>\n",
       "      <th>RH</th>\n",
       "    </tr>\n",
       "    <tr>\n",
       "      <th>Date</th>\n",
       "      <th></th>\n",
       "      <th></th>\n",
       "      <th></th>\n",
       "      <th></th>\n",
       "      <th></th>\n",
       "      <th></th>\n",
       "      <th></th>\n",
       "    </tr>\n",
       "  </thead>\n",
       "  <tbody>\n",
       "    <tr>\n",
       "      <th>2000-01-01</th>\n",
       "      <td>270</td>\n",
       "      <td>4.2</td>\n",
       "      <td>-0.4</td>\n",
       "      <td>7.9</td>\n",
       "      <td>4.9</td>\n",
       "      <td>1.5</td>\n",
       "      <td>1.1</td>\n",
       "    </tr>\n",
       "    <tr>\n",
       "      <th>2000-01-02</th>\n",
       "      <td>270</td>\n",
       "      <td>5.5</td>\n",
       "      <td>3.3</td>\n",
       "      <td>7.4</td>\n",
       "      <td>1.2</td>\n",
       "      <td>0.0</td>\n",
       "      <td>-0.1</td>\n",
       "    </tr>\n",
       "    <tr>\n",
       "      <th>2000-01-03</th>\n",
       "      <td>270</td>\n",
       "      <td>7.4</td>\n",
       "      <td>4.9</td>\n",
       "      <td>8.9</td>\n",
       "      <td>0.0</td>\n",
       "      <td>12.4</td>\n",
       "      <td>17.2</td>\n",
       "    </tr>\n",
       "    <tr>\n",
       "      <th>2000-01-04</th>\n",
       "      <td>270</td>\n",
       "      <td>4.6</td>\n",
       "      <td>2.2</td>\n",
       "      <td>7.5</td>\n",
       "      <td>0.4</td>\n",
       "      <td>1.3</td>\n",
       "      <td>1.1</td>\n",
       "    </tr>\n",
       "    <tr>\n",
       "      <th>2000-01-05</th>\n",
       "      <td>270</td>\n",
       "      <td>4.1</td>\n",
       "      <td>1.4</td>\n",
       "      <td>5.6</td>\n",
       "      <td>5.6</td>\n",
       "      <td>0.0</td>\n",
       "      <td>0.0</td>\n",
       "    </tr>\n",
       "    <tr>\n",
       "      <th>...</th>\n",
       "      <td>...</td>\n",
       "      <td>...</td>\n",
       "      <td>...</td>\n",
       "      <td>...</td>\n",
       "      <td>...</td>\n",
       "      <td>...</td>\n",
       "      <td>...</td>\n",
       "    </tr>\n",
       "    <tr>\n",
       "      <th>2018-12-27</th>\n",
       "      <td>270</td>\n",
       "      <td>5.7</td>\n",
       "      <td>5.3</td>\n",
       "      <td>6.2</td>\n",
       "      <td>0.0</td>\n",
       "      <td>0.9</td>\n",
       "      <td>0.2</td>\n",
       "    </tr>\n",
       "    <tr>\n",
       "      <th>2018-12-28</th>\n",
       "      <td>270</td>\n",
       "      <td>7.1</td>\n",
       "      <td>5.8</td>\n",
       "      <td>8.1</td>\n",
       "      <td>0.0</td>\n",
       "      <td>0.0</td>\n",
       "      <td>0.0</td>\n",
       "    </tr>\n",
       "    <tr>\n",
       "      <th>2018-12-29</th>\n",
       "      <td>270</td>\n",
       "      <td>8.5</td>\n",
       "      <td>6.9</td>\n",
       "      <td>10.2</td>\n",
       "      <td>0.0</td>\n",
       "      <td>1.4</td>\n",
       "      <td>1.8</td>\n",
       "    </tr>\n",
       "    <tr>\n",
       "      <th>2018-12-30</th>\n",
       "      <td>270</td>\n",
       "      <td>8.0</td>\n",
       "      <td>6.8</td>\n",
       "      <td>9.0</td>\n",
       "      <td>0.0</td>\n",
       "      <td>1.4</td>\n",
       "      <td>0.5</td>\n",
       "    </tr>\n",
       "    <tr>\n",
       "      <th>2018-12-31</th>\n",
       "      <td>270</td>\n",
       "      <td>8.7</td>\n",
       "      <td>8.2</td>\n",
       "      <td>9.7</td>\n",
       "      <td>3.8</td>\n",
       "      <td>0.0</td>\n",
       "      <td>-0.1</td>\n",
       "    </tr>\n",
       "  </tbody>\n",
       "</table>\n",
       "<p>6935 rows × 7 columns</p>\n",
       "</div>"
      ],
      "text/plain": [
       "            STN   TG   TN    TX   SQ    DR    RH\n",
       "Date                                            \n",
       "2000-01-01  270  4.2 -0.4   7.9  4.9   1.5   1.1\n",
       "2000-01-02  270  5.5  3.3   7.4  1.2   0.0  -0.1\n",
       "2000-01-03  270  7.4  4.9   8.9  0.0  12.4  17.2\n",
       "2000-01-04  270  4.6  2.2   7.5  0.4   1.3   1.1\n",
       "2000-01-05  270  4.1  1.4   5.6  5.6   0.0   0.0\n",
       "...         ...  ...  ...   ...  ...   ...   ...\n",
       "2018-12-27  270  5.7  5.3   6.2  0.0   0.9   0.2\n",
       "2018-12-28  270  7.1  5.8   8.1  0.0   0.0   0.0\n",
       "2018-12-29  270  8.5  6.9  10.2  0.0   1.4   1.8\n",
       "2018-12-30  270  8.0  6.8   9.0  0.0   1.4   0.5\n",
       "2018-12-31  270  8.7  8.2   9.7  3.8   0.0  -0.1\n",
       "\n",
       "[6935 rows x 7 columns]"
      ]
     },
     "execution_count": 15,
     "metadata": {},
     "output_type": "execute_result"
    }
   ],
   "source": [
    "#replace cells with spaces to NaN\n",
    "import numpy as np\n",
    "from pandas import to_datetime\n",
    "df = df.replace(r'^\\s+$', np.nan, regex=True)\n",
    "## change data formats\n",
    "\n",
    "# first strip all column names\n",
    "df = df.rename(columns=lambda x: x.strip())\n",
    "df['YYYYMMDD'] = to_datetime(df['YYYYMMDD'], format='%Y%m%d')\n",
    "df = df.astype({'STN' : 'int64','TG' : 'float64','TN' : 'float64','TX' : 'float64','SQ' : 'float64','DR' : 'float64','RH' : 'float64'})\n",
    "\n",
    "## change temperatures to celcius degrees\n",
    "# : divide every number by 10\n",
    "df.iloc[:, [2,3,4,5,6,7]] = df.iloc[:, [2,3,4,5,6,7]] * 0.1\n",
    "\n",
    "## remove leap days\n",
    "# change column name to Date\n",
    "pd.DataFrame.rename(df, columns={df.columns[1] : \"Date\"}, inplace=True)\n",
    "\n",
    "# delete leap day\n",
    "df = df[~((df.Date.dt.month == 2) & (df.Date.dt.day == 29))]\n",
    "\n",
    "# select a station\n",
    "station = 270\n",
    "df = df[df['STN'] == station]\n",
    "print(df)\n",
    "\n",
    "# set date as index\n",
    "df = df.set_index(df['Date'])\n",
    "df = df.sort_index()\n",
    "df = df.drop(columns = 'Date')\n",
    "df\n"
   ]
  },
  {
   "cell_type": "markdown",
   "metadata": {},
   "source": [
    "<details>    \n",
    "<summary>\n",
    "    <font size=\"3\" color=\"darkgreen\"><b>Hints</b></font>\n",
    "</summary>\n",
    "<ul><li>pd.to_datetime(df['Date'].astype(str), format='%Y%m%d')</li>\n",
    "    <li>regex for empty cells = `^\\s*$` </li>\n",
    "    <li>remove month == 2 & day == 29</li> \n",
    "</ul>\n",
    "</details>"
   ]
  },
  {
   "cell_type": "code",
   "execution_count": 16,
   "metadata": {},
   "outputs": [],
   "source": [
    "#Test your outcome\n",
    "#write code to check if you have done the above"
   ]
  },
  {
   "cell_type": "markdown",
   "metadata": {},
   "source": [
    "### Expected outcome"
   ]
  },
  {
   "cell_type": "raw",
   "metadata": {},
   "source": [
    "DatetimeIndex: 24820 entries, 1951-01-01 to 2018-12-31\n",
    "Data columns (total 5 columns):\n",
    " #   Column   Non-Null Count  Dtype         \n",
    "---  ------   --------------  -----         \n",
    " 0   station  24820 non-null  int64         \n",
    " 1   Date     24820 non-null  datetime64[ns]\n",
    " 2   Tmean    24819 non-null  float64       \n",
    " 3   Tmin     24819 non-null  float64       \n",
    " 4   Tmax     24819 non-null  float64       \n",
    "dtypes: datetime64[ns](1), float64(3), int64(1)\n",
    "memory usage: 1.1 MB"
   ]
  },
  {
   "cell_type": "markdown",
   "metadata": {},
   "source": [
    "---"
   ]
  },
  {
   "cell_type": "markdown",
   "metadata": {},
   "source": [
    "<a name='2'></a>\n",
    "## Part 3: Reform your data\n",
    "\n",
    "First we will split the data in data from 2018 and data before 2018. Best is to split this in two dataframes. \n",
    "Next we need for the non 2018 data the minimum values for each day and the maximum values for each day. So we look for the minimum value out of all january-01 minimum values (regardless the year). Create a dataframe with 365 days containing the ultimate minimum and the ultimate maximum per day. \n"
   ]
  },
  {
   "cell_type": "code",
   "execution_count": 17,
   "metadata": {},
   "outputs": [],
   "source": [
    "## for df_before find the minimum and maximum value for each day\n",
    "## create a dataframe with 365 days containing the ultimate minimum and the ultimate maximum per day\n",
    "\n",
    "\n",
    "\n",
    "def month_day(df):\n",
    "    ## Split into two dataframes, before 2018 and from 2018\n",
    "    df_before = df[:'2017-12-31']\n",
    "    df_after = df['2018-01-01':]\n",
    "\n",
    "    # Changed the date to three columns just year, month and day\n",
    "    df_before.index = df_before.index.strftime('%m-%d')\n",
    "    df_after.index = df_after.index.strftime('%m-%d')\n",
    "\n",
    "    # Sort the index\n",
    "    # df_before = df_before.sort_index()\n",
    "    # df_after = df_after.sort_index()\n",
    "\n",
    "    ######################################## instead of changing date to just day-month, split date into two or three columns, groupby month-day and \n",
    "    ######################################## and use year to make slider\n",
    "    # groupby Date\n",
    "    df_before_max = df_before.groupby(df_before.index).max()\n",
    "    df_before_min = df_before.groupby(df_before.index).min()\n",
    "\n",
    "    df_after_max = df_after.groupby(df_after.index).max()\n",
    "    df_after_min = df_after.groupby(df_after.index).min()\n",
    "\n",
    "    df_after_mean = df_after.groupby(df_after.index).mean()\n",
    "\n",
    "    # print(df_after_max)\n",
    "    # print(df_before_min)\n",
    "    \n",
    "    return df_before_max, df_before_min, df_after_max, df_after_min, df_after_mean\n",
    "\n"
   ]
  },
  {
   "cell_type": "code",
   "execution_count": null,
   "metadata": {},
   "outputs": [],
   "source": []
  },
  {
   "cell_type": "code",
   "execution_count": 18,
   "metadata": {},
   "outputs": [
    {
     "data": {
      "text/plain": [
       "(       STN    TG   TN    TX   SQ    DR    RH\n",
       " Date                                        \n",
       " 01-01  270   9.8  8.2  11.1  5.3   8.0  23.0\n",
       " 01-02  270   7.8  5.5  10.2  6.2   3.7   3.3\n",
       " 01-03  270   9.0  7.1  10.7  4.9   6.7  14.8\n",
       " 01-04  270   8.6  7.6   9.2  4.3  13.8   9.5\n",
       " 01-05  270   7.5  5.7   8.4  6.6   6.3   6.5\n",
       " ...    ...   ...  ...   ...  ...   ...   ...\n",
       " 12-27  270  10.0  8.6  11.7  5.2  16.0  14.1\n",
       " 12-28  270  10.0  8.4  10.9  6.4   4.3   4.8\n",
       " 12-29  270   9.9  8.5  11.4  6.4   5.8   7.9\n",
       " 12-30  270   7.0  5.5   9.5  6.4   5.5   5.3\n",
       " 12-31  270   8.9  8.1  11.8  5.4   7.9   9.2\n",
       " \n",
       " [365 rows x 7 columns],\n",
       "        STN   TG    TN   TX   SQ   DR   RH\n",
       " Date                                     \n",
       " 01-01  270 -1.9  -5.8  1.0  0.0  0.0 -0.1\n",
       " 01-02  270 -3.4  -7.5 -1.4  0.0  0.0 -0.1\n",
       " 01-03  270 -4.1 -12.6  0.1  0.0  0.0 -0.1\n",
       " 01-04  270 -1.8  -4.1  0.8  0.0  0.0 -0.1\n",
       " 01-05  270 -2.3  -6.0 -1.2  0.0  0.0 -0.1\n",
       " ...    ...  ...   ...  ...  ...  ...  ...\n",
       " 12-27  270 -1.7  -4.8  1.3  0.0  0.0 -0.1\n",
       " 12-28  270 -0.9  -4.2  0.3  0.0  0.0 -0.1\n",
       " 12-29  270 -4.0  -6.7 -2.6  0.0  0.0  0.0\n",
       " 12-30  270 -6.0 -10.2 -2.4  0.0  0.0  0.0\n",
       " 12-31  270 -4.5 -10.6  0.0  0.0  0.0  0.0\n",
       " \n",
       " [365 rows x 7 columns],\n",
       " Empty DataFrame\n",
       " Columns: [STN, TG, TN, TX, SQ, DR, RH]\n",
       " Index: [],\n",
       " Empty DataFrame\n",
       " Columns: [STN, TG, TN, TX, SQ, DR, RH]\n",
       " Index: [],\n",
       " Empty DataFrame\n",
       " Columns: [STN, TG, TN, TX, SQ, DR, RH]\n",
       " Index: [])"
      ]
     },
     "execution_count": 18,
     "metadata": {},
     "output_type": "execute_result"
    }
   ],
   "source": [
    "#Test your code\n",
    "def test_reformed(df):\n",
    "    df = df[(df.index.year > 2007) & (df.index.year < 2018)]\n",
    "    month_day(df)\n",
    "    return month_day(df)\n",
    "\n",
    "test_reformed(df)"
   ]
  },
  {
   "cell_type": "markdown",
   "metadata": {},
   "source": [
    "<details>    \n",
    "<summary>\n",
    "    <font size=\"3\" color=\"darkgreen\"><b>Hints</b></font>\n",
    "</summary>\n",
    "<ul><li>use the dt.month and dt.day to groupby</li>\n",
    "</ul>\n",
    "</details>"
   ]
  },
  {
   "cell_type": "markdown",
   "metadata": {},
   "source": [
    "### Expected outcome\n",
    "Note, the layout or names my differ, but the length should be 365 and the minimum values should be the same"
   ]
  },
  {
   "cell_type": "raw",
   "metadata": {},
   "source": [
    "month  day\n",
    "1      1      -5.8\n",
    "       2      -7.5\n",
    "       3     -12.6\n",
    "       4      -4.1\n",
    "       5      -6.0\n",
    "              ... \n",
    "12     27     -4.8\n",
    "       28     -4.2\n",
    "       29     -6.7\n",
    "       30    -10.2\n",
    "       31    -10.6\n",
    "Name: Tmin, Length: 365, dtype: float64"
   ]
  },
  {
   "cell_type": "markdown",
   "metadata": {},
   "source": [
    "---"
   ]
  },
  {
   "cell_type": "markdown",
   "metadata": {},
   "source": [
    "<a name='3'></a>\n",
    "## Part 4: Smooth the data\n",
    "\n",
    "Make a function that takes an array or a dataframe column and returns an array of smoothed data. Explain in words why you choose a certain smoothing algoritm. Ask the signal analysis teacher if you want some advice.\n"
   ]
  },
  {
   "cell_type": "code",
   "execution_count": 19,
   "metadata": {},
   "outputs": [
    {
     "data": {
      "image/png": "[encoded data removed]",
      "text/plain": [
       "<Figure size 432x288 with 1 Axes>"
      ]
     },
     "metadata": {
      "needs_background": "light"
     },
     "output_type": "display_data"
    }
   ],
   "source": [
    "#your code here\n",
    "\n",
    "# TG       = Temperature average  (in 0.1 degrees Celsius);\n",
    "# TN       = Minimum Temperature (in 0.1 degrees Celsius);\n",
    "# TX       = Maximum Temperature (in 0.1 degrees Celsius);\n",
    "\n",
    "## Fit polynomial (interp1d) through datapoints, return an array of this data\n",
    "\n",
    "from scipy.interpolate import interp1d\n",
    "import scipy.interpolate as interp\n",
    "\n",
    "df_before_max = month_day(df)[0]    #before 2018\n",
    "df_before_min = month_day(df)[1]\n",
    "\n",
    "df_after_max = month_day(df)[2]     #after 2018\n",
    "df_after_min = month_day(df)[3]\n",
    "df_after_mean = month_day(df)[4]\n",
    "\n",
    "## columns of the dataframe as x and y\n",
    "date = np.arange(1,366,1)\n",
    "\n",
    "temperature_before_max = df_before_max['TX']\n",
    "temperature_before_min = df_before_min['TN']\n",
    "temperature_after_max = df_after_max['TX']\n",
    "temperature_after_min = df_after_min['TN']\n",
    "temperature_after_mean = df_after_mean['TG']\n",
    "\n",
    "spline_before_max = interp.CubicSpline(date, temperature_before_max, extrapolate='periodic')\n",
    "spline_before_min = interp.CubicSpline(date, temperature_before_min, extrapolate='periodic')\n",
    "spline_after_max = interp.CubicSpline(date, temperature_after_max, extrapolate='periodic')\n",
    "spline_after_min = interp.CubicSpline(date, temperature_after_min, extrapolate='periodic')\n",
    "spline_after_mean = interp.CubicSpline(date, temperature_after_mean, extrapolate='periodic')\n",
    "\n",
    "x = date\n",
    "y_before_max = spline_before_max(x)\n",
    "y_before_min = spline_before_min(x)\n",
    "y_after_max = spline_after_max(x)\n",
    "y_after_min = spline_after_min(x)\n",
    "y_after_mean = spline_after_mean(x)\n",
    "\n",
    "#your motivation here\n",
    "#Smoothing CubicSpline because ###############################################################################################\n",
    "\n",
    "\n",
    "### matplotlib plot\n",
    "import matplotlib.pyplot as plt\n",
    "\n",
    "plt.axhline(0., color='k', lw=.5)\n",
    "# plt.plot(time, volume, 'o:k', label='original')\n",
    "# plt.plot(x, np.mean(volume), '-g', label='spline')\n",
    "plt.plot(x, y_before_max, '-r', label='max')\n",
    "plt.plot(x, y_before_min, '-b', label='min')\n",
    "plt.plot(x, y_after_mean, '-g', label='mean')\n",
    "# plt.plot(x, y_cubic, '-b', label='cubicspline_periodic')\n",
    "plt.xlabel('day'); plt.ylabel('temperature (C)')\n",
    "plt.title('max and min temperatures in leeuwarden from 2000 and up to 2018')\n",
    "plt.legend(); plt.xlim(0, 365);plt.ylim(-15, 40); plt.show()"
   ]
  },
  {
   "cell_type": "markdown",
   "metadata": {},
   "source": [
    "---"
   ]
  },
  {
   "cell_type": "markdown",
   "metadata": {},
   "source": [
    "<a name='4'></a>\n",
    "## Part 5: Visualize the data"
   ]
  },
  {
   "cell_type": "markdown",
   "metadata": {},
   "source": [
    "Plot the mean temperature of the year 2018. Create a shaded band with the ultimate minimum values and the ultimate maximum values from the multi-year dataset. Add labels, titles and legends. Use proper ranges. Be creative to make the plot attractive. \n",
    "\n"
   ]
  },
  {
   "cell_type": "code",
   "execution_count": 25,
   "metadata": {},
   "outputs": [
    {
     "data": {
      "text/html": [
       "\n",
       "    <div class=\"bk-root\">\n",
       "        <a href=\"https://bokeh.org\" target=\"_blank\" class=\"bk-logo bk-logo-small bk-logo-notebook\"></a>\n",
       "        <span id=\"1497\">Loading BokehJS ...</span>\n",
       "    </div>"
      ]
     },
     "metadata": {},
     "output_type": "display_data"
    },
    {
     "data": {
      "application/javascript": "\n(function(root) {\n  function now() {\n    return new Date();\n  }\n\n  const force = true;\n\n  if (typeof root._bokeh_onload_callbacks === \"undefined\" || force === true) {\n    root._bokeh_onload_callbacks = [];\n    root._bokeh_is_loading = undefined;\n  }\n\n  const JS_MIME_TYPE = 'application/javascript';\n  const HTML_MIME_TYPE = 'text/html';\n  const EXEC_MIME_TYPE = 'application/vnd.bokehjs_exec.v0+json';\n  const CLASS_NAME = 'output_bokeh rendered_html';\n\n  /**\n   * Render data to the DOM node\n   */\n  function render(props, node) {\n    const script = document.createElement(\"script\");\n    node.appendChild(script);\n  }\n\n  /**\n   * Handle when an output is cleared or removed\n   */\n  function handleClearOutput(event, handle) {\n    const cell = handle.cell;\n\n    const id = cell.output_area._bokeh_element_id;\n    const server_id = cell.output_area._bokeh_server_id;\n    // Clean up Bokeh references\n    if (id != null && id in Bokeh.index) {\n      Bokeh.index[id].model.document.clear();\n      delete Bokeh.index[id];\n    }\n\n    if (server_id !== undefined) {\n      // Clean up Bokeh references\n      const cmd_clean = \"from bokeh.io.state import curstate; print(curstate().uuid_to_server['\" + server_id + \"'].get_sessions()[0].document.roots[0]._id)\";\n      cell.notebook.kernel.execute(cmd_clean, {\n        iopub: {\n          output: function(msg) {\n            const id = msg.content.text.trim();\n            if (id in Bokeh.index) {\n              Bokeh.index[id].model.document.clear();\n              delete Bokeh.index[id];\n            }\n          }\n        }\n      });\n      // Destroy server and session\n      const cmd_destroy = \"import bokeh.io.notebook as ion; ion.destroy_server('\" + server_id + \"')\";\n      cell.notebook.kernel.execute(cmd_destroy);\n    }\n  }\n\n  /**\n   * Handle when a new output is added\n   */\n  function handleAddOutput(event, handle) {\n    const output_area = handle.output_area;\n    const output = handle.output;\n\n    // limit handleAddOutput to display_data with EXEC_MIME_TYPE content only\n    if ((output.output_type != \"display_data\") || (!Object.prototype.hasOwnProperty.call(output.data, EXEC_MIME_TYPE))) {\n      return\n    }\n\n    const toinsert = output_area.element.find(\".\" + CLASS_NAME.split(' ')[0]);\n\n    if (output.metadata[EXEC_MIME_TYPE][\"id\"] !== undefined) {\n      toinsert[toinsert.length - 1].firstChild.textContent = output.data[JS_MIME_TYPE];\n      // store reference to embed id on output_area\n      output_area._bokeh_element_id = output.metadata[EXEC_MIME_TYPE][\"id\"];\n    }\n    if (output.metadata[EXEC_MIME_TYPE][\"server_id\"] !== undefined) {\n      const bk_div = document.createElement(\"div\");\n      bk_div.innerHTML = output.data[HTML_MIME_TYPE];\n      const script_attrs = bk_div.children[0].attributes;\n      for (let i = 0; i < script_attrs.length; i++) {\n        toinsert[toinsert.length - 1].firstChild.setAttribute(script_attrs[i].name, script_attrs[i].value);\n        toinsert[toinsert.length - 1].firstChild.textContent = bk_div.children[0].textContent\n      }\n      // store reference to server id on output_area\n      output_area._bokeh_server_id = output.metadata[EXEC_MIME_TYPE][\"server_id\"];\n    }\n  }\n\n  function register_renderer(events, OutputArea) {\n\n    function append_mime(data, metadata, element) {\n      // create a DOM node to render to\n      const toinsert = this.create_output_subarea(\n        metadata,\n        CLASS_NAME,\n        EXEC_MIME_TYPE\n      );\n      this.keyboard_manager.register_events(toinsert);\n      // Render to node\n      const props = {data: data, metadata: metadata[EXEC_MIME_TYPE]};\n      render(props, toinsert[toinsert.length - 1]);\n      element.append(toinsert);\n      return toinsert\n    }\n\n    /* Handle when an output is cleared or removed */\n    events.on('clear_output.CodeCell', handleClearOutput);\n    events.on('delete.Cell', handleClearOutput);\n\n    /* Handle when a new output is added */\n    events.on('output_added.OutputArea', handleAddOutput);\n\n    /**\n     * Register the mime type and append_mime function with output_area\n     */\n    OutputArea.prototype.register_mime_type(EXEC_MIME_TYPE, append_mime, {\n      /* Is output safe? */\n      safe: true,\n      /* Index of renderer in `output_area.display_order` */\n      index: 0\n    });\n  }\n\n  // register the mime type if in Jupyter Notebook environment and previously unregistered\n  if (root.Jupyter !== undefined) {\n    const events = require('base/js/events');\n    const OutputArea = require('notebook/js/outputarea').OutputArea;\n\n    if (OutputArea.prototype.mime_types().indexOf(EXEC_MIME_TYPE) == -1) {\n      register_renderer(events, OutputArea);\n    }\n  }\n\n  \n  if (typeof (root._bokeh_timeout) === \"undefined\" || force === true) {\n    root._bokeh_timeout = Date.now() + 5000;\n    root._bokeh_failed_load = false;\n  }\n\n  const NB_LOAD_WARNING = {'data': {'text/html':\n     \"<div style='background-color: #fdd'>\\n\"+\n     \"<p>\\n\"+\n     \"BokehJS does not appear to have successfully loaded. If loading BokehJS from CDN, this \\n\"+\n     \"may be due to a slow or bad network connection. Possible fixes:\\n\"+\n     \"</p>\\n\"+\n     \"<ul>\\n\"+\n     \"<li>re-rerun `output_notebook()` to attempt to load from CDN again, or</li>\\n\"+\n     \"<li>use INLINE resources instead, as so:</li>\\n\"+\n     \"</ul>\\n\"+\n     \"<code>\\n\"+\n     \"from bokeh.resources import INLINE\\n\"+\n     \"output_notebook(resources=INLINE)\\n\"+\n     \"</code>\\n\"+\n     \"</div>\"}};\n\n  function display_loaded() {\n    const el = document.getElementById(\"1497\");\n    if (el != null) {\n      el.textContent = \"BokehJS is loading...\";\n    }\n    if (root.Bokeh !== undefined) {\n      if (el != null) {\n        el.textContent = \"BokehJS \" + root.Bokeh.version + \" successfully loaded.\";\n      }\n    } else if (Date.now() < root._bokeh_timeout) {\n      setTimeout(display_loaded, 100)\n    }\n  }\n\n\n  function run_callbacks() {\n    try {\n      root._bokeh_onload_callbacks.forEach(function(callback) {\n        if (callback != null)\n          callback();\n      });\n    } finally {\n      delete root._bokeh_onload_callbacks\n    }\n    console.debug(\"Bokeh: all callbacks have finished\");\n  }\n\n  function load_libs(css_urls, js_urls, callback) {\n    if (css_urls == null) css_urls = [];\n    if (js_urls == null) js_urls = [];\n\n    root._bokeh_onload_callbacks.push(callback);\n    if (root._bokeh_is_loading > 0) {\n      console.debug(\"Bokeh: BokehJS is being loaded, scheduling callback at\", now());\n      return null;\n    }\n    if (js_urls == null || js_urls.length === 0) {\n      run_callbacks();\n      return null;\n    }\n    console.debug(\"Bokeh: BokehJS not loaded, scheduling load and callback at\", now());\n    root._bokeh_is_loading = css_urls.length + js_urls.length;\n\n    function on_load() {\n      root._bokeh_is_loading--;\n      if (root._bokeh_is_loading === 0) {\n        console.debug(\"Bokeh: all BokehJS libraries/stylesheets loaded\");\n        run_callbacks()\n      }\n    }\n\n    function on_error(url) {\n      console.error(\"failed to load \" + url);\n    }\n\n    for (let i = 0; i < css_urls.length; i++) {\n      const url = css_urls[i];\n      const element = document.createElement(\"link\");\n      element.onload = on_load;\n      element.onerror = on_error.bind(null, url);\n      element.rel = \"stylesheet\";\n      element.type = \"text/css\";\n      element.href = url;\n      console.debug(\"Bokeh: injecting link tag for BokehJS stylesheet: \", url);\n      document.body.appendChild(element);\n    }\n\n    for (let i = 0; i < js_urls.length; i++) {\n      const url = js_urls[i];\n      const element = document.createElement('script');\n      element.onload = on_load;\n      element.onerror = on_error.bind(null, url);\n      element.async = false;\n      element.src = url;\n      console.debug(\"Bokeh: injecting script tag for BokehJS library: \", url);\n      document.head.appendChild(element);\n    }\n  };\n\n  function inject_raw_css(css) {\n    const element = document.createElement(\"style\");\n    element.appendChild(document.createTextNode(css));\n    document.body.appendChild(element);\n  }\n\n  \n  const js_urls = [\"https://cdn.bokeh.org/bokeh/release/bokeh-2.4.1.min.js\", \"https://cdn.bokeh.org/bokeh/release/bokeh-gl-2.4.1.min.js\", \"https://cdn.bokeh.org/bokeh/release/bokeh-widgets-2.4.1.min.js\", \"https://cdn.bokeh.org/bokeh/release/bokeh-tables-2.4.1.min.js\", \"https://cdn.bokeh.org/bokeh/release/bokeh-mathjax-2.4.1.min.js\", \"https://unpkg.com/@holoviz/panel@0.12.6/dist/panel.min.js\"];\n  const css_urls = [];\n  \n\n  const inline_js = [\n    function(Bokeh) {\n      Bokeh.set_log_level(\"info\");\n    },\n    function(Bokeh) {\n    \n    \n    }\n  ];\n\n  function run_inline_js() {\n    \n    if (root.Bokeh !== undefined || force === true) {\n      \n    for (let i = 0; i < inline_js.length; i++) {\n      inline_js[i].call(root, root.Bokeh);\n    }\n    if (force === true) {\n        display_loaded();\n      }} else if (Date.now() < root._bokeh_timeout) {\n      setTimeout(run_inline_js, 100);\n    } else if (!root._bokeh_failed_load) {\n      console.log(\"Bokeh: BokehJS failed to load within specified timeout.\");\n      root._bokeh_failed_load = true;\n    } else if (force !== true) {\n      const cell = $(document.getElementById(\"1497\")).parents('.cell').data().cell;\n      cell.output_area.append_execute_result(NB_LOAD_WARNING)\n    }\n\n  }\n\n  if (root._bokeh_is_loading === 0) {\n    console.debug(\"Bokeh: BokehJS loaded, going straight to plotting\");\n    run_inline_js();\n  } else {\n    load_libs(css_urls, js_urls, function() {\n      console.debug(\"Bokeh: BokehJS plotting callback run at\", now());\n      run_inline_js();\n    });\n  }\n}(window));",
      "application/vnd.bokehjs_load.v0+json": ""
     },
     "metadata": {},
     "output_type": "display_data"
    },
    {
     "data": {
      "text/html": [
       "\n",
       "\n",
       "\n",
       "\n",
       "\n",
       "\n",
       "  <div class=\"bk-root\" id=\"33f6d89b-9571-49e7-84ce-c6528a2c6a38\" data-root-id=\"1499\"></div>\n"
      ]
     },
     "metadata": {},
     "output_type": "display_data"
    },
    {
     "data": {
      "application/javascript": "(function(root) {\n  function embed_document(root) {\n    \n  const docs_json = {\"395242a8-b19b-4de8-8039-798ccc6bb201\":{\"defs\":[{\"extends\":null,\"module\":null,\"name\":\"ReactiveHTML1\",\"overrides\":[],\"properties\":[]},{\"extends\":null,\"module\":null,\"name\":\"FlexBox1\",\"overrides\":[],\"properties\":[{\"default\":\"flex-start\",\"kind\":null,\"name\":\"align_content\"},{\"default\":\"flex-start\",\"kind\":null,\"name\":\"align_items\"},{\"default\":\"row\",\"kind\":null,\"name\":\"flex_direction\"},{\"default\":\"wrap\",\"kind\":null,\"name\":\"flex_wrap\"},{\"default\":\"flex-start\",\"kind\":null,\"name\":\"justify_content\"}]},{\"extends\":null,\"module\":null,\"name\":\"TemplateActions1\",\"overrides\":[],\"properties\":[{\"default\":0,\"kind\":null,\"name\":\"open_modal\"},{\"default\":0,\"kind\":null,\"name\":\"close_modal\"}]},{\"extends\":null,\"module\":null,\"name\":\"MaterialTemplateActions1\",\"overrides\":[],\"properties\":[{\"default\":0,\"kind\":null,\"name\":\"open_modal\"},{\"default\":0,\"kind\":null,\"name\":\"close_modal\"}]}],\"roots\":{\"references\":[{\"attributes\":{\"below\":[{\"id\":\"1508\"}],\"center\":[{\"id\":\"1511\"},{\"id\":\"1515\"},{\"id\":\"1549\"},{\"id\":\"1551\"}],\"left\":[{\"id\":\"1512\"}],\"renderers\":[{\"id\":\"1536\"}],\"title\":{\"id\":\"1538\"},\"toolbar\":{\"id\":\"1524\"},\"x_range\":{\"id\":\"1500\"},\"x_scale\":{\"id\":\"1504\"},\"y_range\":{\"id\":\"1502\"},\"y_scale\":{\"id\":\"1506\"}},\"id\":\"1499\",\"subtype\":\"Figure\",\"type\":\"Plot\"},{\"attributes\":{\"click_policy\":\"hide\",\"coordinates\":null,\"group\":null,\"items\":[{\"id\":\"1550\"}],\"location\":\"top_left\"},\"id\":\"1549\",\"type\":\"Legend\"},{\"attributes\":{\"data\":{\"base\":{\"__ndarray__\":\"AQAAAAIAAAADAAAABAAAAAUAAAAGAAAABwAAAAgAAAAJAAAACgAAAAsAAAAMAAAADQAAAA4AAAAPAAAAEAAAABEAAAASAAAAEwAAABQAAAAVAAAAFgAAABcAAAAYAAAAGQAAABoAAAAbAAAAHAAAAB0AAAAeAAAAHwAAACAAAAAhAAAAIgAAACMAAAAkAAAAJQAAACYAAAAnAAAAKAAAACkAAAAqAAAAKwAAACwAAAAtAAAALgAAAC8AAAAwAAAAMQAAADIAAAAzAAAANAAAADUAAAA2AAAANwAAADgAAAA5AAAAOgAAADsAAAA8AAAAPQAAAD4AAAA/AAAAQAAAAEEAAABCAAAAQwAAAEQAAABFAAAARgAAAEcAAABIAAAASQAAAEoAAABLAAAATAAAAE0AAABOAAAATwAAAFAAAABRAAAAUgAAAFMAAABUAAAAVQAAAFYAAABXAAAAWAAAAFkAAABaAAAAWwAAAFwAAABdAAAAXgAAAF8AAABgAAAAYQAAAGIAAABjAAAAZAAAAGUAAABmAAAAZwAAAGgAAABpAAAAagAAAGsAAABsAAAAbQAAAG4AAABvAAAAcAAAAHEAAAByAAAAcwAAAHQAAAB1AAAAdgAAAHcAAAB4AAAAeQAAAHoAAAB7AAAAfAAAAH0AAAB+AAAAfwAAAIAAAACBAAAAggAAAIMAAACEAAAAhQAAAIYAAACHAAAAiAAAAIkAAACKAAAAiwAAAIwAAACNAAAAjgAAAI8AAACQAAAAkQAAAJIAAACTAAAAlAAAAJUAAACWAAAAlwAAAJgAAACZAAAAmgAAAJsAAACcAAAAnQAAAJ4AAACfAAAAoAAAAKEAAACiAAAAowAAAKQAAAClAAAApgAAAKcAAACoAAAAqQAAAKoAAACrAAAArAAAAK0AAACuAAAArwAAALAAAACxAAAAsgAAALMAAAC0AAAAtQAAALYAAAC3AAAAuAAAALkAAAC6AAAAuwAAALwAAAC9AAAAvgAAAL8AAADAAAAAwQAAAMIAAADDAAAAxAAAAMUAAADGAAAAxwAAAMgAAADJAAAAygAAAMsAAADMAAAAzQAAAM4AAADPAAAA0AAAANEAAADSAAAA0wAAANQAAADVAAAA1gAAANcAAADYAAAA2QAAANoAAADbAAAA3AAAAN0AAADeAAAA3wAAAOAAAADhAAAA4gAAAOMAAADkAAAA5QAAAOYAAADnAAAA6AAAAOkAAADqAAAA6wAAAOwAAADtAAAA7gAAAO8AAADwAAAA8QAAAPIAAADzAAAA9AAAAPUAAAD2AAAA9wAAAPgAAAD5AAAA+gAAAPsAAAD8AAAA/QAAAP4AAAD/AAAAAAEAAAEBAAACAQAAAwEAAAQBAAAFAQAABgEAAAcBAAAIAQAACQEAAAoBAAALAQAADAEAAA0BAAAOAQAADwEAABABAAARAQAAEgEAABMBAAAUAQAAFQEAABYBAAAXAQAAGAEAABkBAAAaAQAAGwEAABwBAAAdAQAAHgEAAB8BAAAgAQAAIQEAACIBAAAjAQAAJAEAACUBAAAmAQAAJwEAACgBAAApAQAAKgEAACsBAAAsAQAALQEAAC4BAAAvAQAAMAEAADEBAAAyAQAAMwEAADQBAAA1AQAANgEAADcBAAA4AQAAOQEAADoBAAA7AQAAPAEAAD0BAAA+AQAAPwEAAEABAABBAQAAQgEAAEMBAABEAQAARQEAAEYBAABHAQAASAEAAEkBAABKAQAASwEAAEwBAABNAQAATgEAAE8BAABQAQAAUQEAAFIBAABTAQAAVAEAAFUBAABWAQAAVwEAAFgBAABZAQAAWgEAAFsBAABcAQAAXQEAAF4BAABfAQAAYAEAAGEBAABiAQAAYwEAAGQBAABlAQAAZgEAAGcBAABoAQAAaQEAAGoBAABrAQAAbAEAAG0BAAA=\",\"dtype\":\"int32\",\"order\":\"little\",\"shape\":[365]},\"lower\":{\"__ndarray__\":\"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\",\"dtype\":\"float64\",\"order\":\"little\",\"shape\":[365]},\"upper\":{\"__ndarray__\":\"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\",\"dtype\":\"float64\",\"order\":\"little\",\"shape\":[365]}},\"selected\":{\"id\":\"1579\"},\"selection_policy\":{\"id\":\"1578\"}},\"id\":\"1498\",\"type\":\"ColumnDataSource\"},{\"attributes\":{},\"id\":\"1579\",\"type\":\"Selection\"},{\"attributes\":{},\"id\":\"1547\",\"type\":\"Selection\"},{\"attributes\":{\"label\":{\"value\":\"Day Average Temperature 2018\"},\"renderers\":[{\"id\":\"1536\"}]},\"id\":\"1550\",\"type\":\"LegendItem\"},{\"attributes\":{\"line_alpha\":0.1,\"line_color\":\"Blue\",\"line_width\":2,\"x\":{\"field\":\"x\"},\"y\":{\"field\":\"y\"}},\"id\":\"1534\",\"type\":\"Line\"},{\"attributes\":{},\"id\":\"1544\",\"type\":\"BasicTickFormatter\"},{\"attributes\":{\"line_alpha\":0.2,\"line_color\":\"Blue\",\"line_width\":2,\"x\":{\"field\":\"x\"},\"y\":{\"field\":\"y\"}},\"id\":\"1535\",\"type\":\"Line\"},{\"attributes\":{\"bottom_units\":\"screen\",\"coordinates\":null,\"fill_alpha\":0.5,\"fill_color\":\"lightgrey\",\"group\":null,\"left_units\":\"screen\",\"level\":\"overlay\",\"line_alpha\":1.0,\"line_color\":\"black\",\"line_dash\":[4,4],\"line_width\":2,\"right_units\":\"screen\",\"syncable\":false,\"top_units\":\"screen\"},\"id\":\"1523\",\"type\":\"BoxAnnotation\"},{\"attributes\":{\"end\":40,\"start\":-20},\"id\":\"1502\",\"type\":\"Range1d\"},{\"attributes\":{},\"id\":\"1578\",\"type\":\"UnionRenderers\"},{\"attributes\":{\"data\":{\"x\":{\"__ndarray__\":\"AQAAAAIAAAADAAAABAAAAAUAAAAGAAAABwAAAAgAAAAJAAAACgAAAAsAAAAMAAAADQAAAA4AAAAPAAAAEAAAABEAAAASAAAAEwAAABQAAAAVAAAAFgAAABcAAAAYAAAAGQAAABoAAAAbAAAAHAAAAB0AAAAeAAAAHwAAACAAAAAhAAAAIgAAACMAAAAkAAAAJQAAACYAAAAnAAAAKAAAACkAAAAqAAAAKwAAACwAAAAtAAAALgAAAC8AAAAwAAAAMQAAADIAAAAzAAAANAAAADUAAAA2AAAANwAAADgAAAA5AAAAOgAAADsAAAA8AAAAPQAAAD4AAAA/AAAAQAAAAEEAAABCAAAAQwAAAEQAAABFAAAARgAAAEcAAABIAAAASQAAAEoAAABLAAAATAAAAE0AAABOAAAATwAAAFAAAABRAAAAUgAAAFMAAABUAAAAVQAAAFYAAABXAAAAWAAAAFkAAABaAAAAWwAAAFwAAABdAAAAXgAAAF8AAABgAAAAYQAAAGIAAABjAAAAZAAAAGUAAABmAAAAZwAAAGgAAABpAAAAagAAAGsAAABsAAAAbQAAAG4AAABvAAAAcAAAAHEAAAByAAAAcwAAAHQAAAB1AAAAdgAAAHcAAAB4AAAAeQAAAHoAAAB7AAAAfAAAAH0AAAB+AAAAfwAAAIAAAACBAAAAggAAAIMAAACEAAAAhQAAAIYAAACHAAAAiAAAAIkAAACKAAAAiwAAAIwAAACNAAAAjgAAAI8AAACQAAAAkQAAAJIAAACTAAAAlAAAAJUAAACWAAAAlwAAAJgAAACZAAAAmgAAAJsAAACcAAAAnQAAAJ4AAACfAAAAoAAAAKEAAACiAAAAowAAAKQAAAClAAAApgAAAKcAAACoAAAAqQAAAKoAAACrAAAArAAAAK0AAACuAAAArwAAALAAAACxAAAAsgAAALMAAAC0AAAAtQAAALYAAAC3AAAAuAAAALkAAAC6AAAAuwAAALwAAAC9AAAAvgAAAL8AAADAAAAAwQAAAMIAAADDAAAAxAAAAMUAAADGAAAAxwAAAMgAAADJAAAAygAAAMsAAADMAAAAzQAAAM4AAADPAAAA0AAAANEAAADSAAAA0wAAANQAAADVAAAA1gAAANcAAADYAAAA2QAAANoAAADbAAAA3AAAAN0AAADeAAAA3wAAAOAAAADhAAAA4gAAAOMAAADkAAAA5QAAAOYAAADnAAAA6AAAAOkAAADqAAAA6wAAAOwAAADtAAAA7gAAAO8AAADwAAAA8QAAAPIAAADzAAAA9AAAAPUAAAD2AAAA9wAAAPgAAAD5AAAA+gAAAPsAAAD8AAAA/QAAAP4AAAD/AAAAAAEAAAEBAAACAQAAAwEAAAQBAAAFAQAABgEAAAcBAAAIAQAACQEAAAoBAAALAQAADAEAAA0BAAAOAQAADwEAABABAAARAQAAEgEAABMBAAAUAQAAFQEAABYBAAAXAQAAGAEAABkBAAAaAQAAGwEAABwBAAAdAQAAHgEAAB8BAAAgAQAAIQEAACIBAAAjAQAAJAEAACUBAAAmAQAAJwEAACgBAAApAQAAKgEAACsBAAAsAQAALQEAAC4BAAAvAQAAMAEAADEBAAAyAQAAMwEAADQBAAA1AQAANgEAADcBAAA4AQAAOQEAADoBAAA7AQAAPAEAAD0BAAA+AQAAPwEAAEABAABBAQAAQgEAAEMBAABEAQAARQEAAEYBAABHAQAASAEAAEkBAABKAQAASwEAAEwBAABNAQAATgEAAE8BAABQAQAAUQEAAFIBAABTAQAAVAEAAFUBAABWAQAAVwEAAFgBAABZAQAAWgEAAFsBAABcAQAAXQEAAF4BAABfAQAAYAEAAGEBAABiAQAAYwEAAGQBAABlAQAAZgEAAGcBAABoAQAAaQEAAGoBAABrAQAAbAEAAG0BAAA=\",\"dtype\":\"int32\",\"order\":\"little\",\"shape\":[365]},\"y\":{\"__ndarray__\":\"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\",\"dtype\":\"float64\",\"order\":\"little\",\"shape\":[365]}},\"selected\":{\"id\":\"1547\"},\"selection_policy\":{\"id\":\"1546\"}},\"id\":\"1532\",\"type\":\"ColumnDataSource\"},{\"attributes\":{},\"id\":\"1500\",\"type\":\"DataRange1d\"},{\"attributes\":{},\"id\":\"1541\",\"type\":\"BasicTickFormatter\"},{\"attributes\":{\"axis\":{\"id\":\"1512\"},\"coordinates\":null,\"dimension\":1,\"group\":null,\"ticker\":null},\"id\":\"1515\",\"type\":\"Grid\"},{\"attributes\":{},\"id\":\"1509\",\"type\":\"BasicTicker\"},{\"attributes\":{},\"id\":\"1542\",\"type\":\"AllLabels\"},{\"attributes\":{},\"id\":\"1520\",\"type\":\"SaveTool\"},{\"attributes\":{\"coordinates\":null,\"group\":null,\"text\":\"Band is maximum and minimum temperatures of the last years (2000-)\"},\"id\":\"1538\",\"type\":\"Title\"},{\"attributes\":{\"source\":{\"id\":\"1532\"}},\"id\":\"1537\",\"type\":\"CDSView\"},{\"attributes\":{},\"id\":\"1522\",\"type\":\"ZoomOutTool\"},{\"attributes\":{},\"id\":\"1513\",\"type\":\"BasicTicker\"},{\"attributes\":{\"tools\":[{\"id\":\"1516\"},{\"id\":\"1517\"},{\"id\":\"1518\"},{\"id\":\"1519\"},{\"id\":\"1520\"},{\"id\":\"1521\"},{\"id\":\"1522\"}]},\"id\":\"1524\",\"type\":\"Toolbar\"},{\"attributes\":{\"coordinates\":null,\"data_source\":{\"id\":\"1532\"},\"glyph\":{\"id\":\"1533\"},\"group\":null,\"hover_glyph\":null,\"muted_glyph\":{\"id\":\"1535\"},\"nonselection_glyph\":{\"id\":\"1534\"},\"view\":{\"id\":\"1537\"}},\"id\":\"1536\",\"type\":\"GlyphRenderer\"},{\"attributes\":{},\"id\":\"1517\",\"type\":\"WheelZoomTool\"},{\"attributes\":{},\"id\":\"1545\",\"type\":\"AllLabels\"},{\"attributes\":{\"axis\":{\"id\":\"1508\"},\"coordinates\":null,\"group\":null,\"ticker\":null},\"id\":\"1511\",\"type\":\"Grid\"},{\"attributes\":{\"line_color\":\"Blue\",\"line_width\":2,\"x\":{\"field\":\"x\"},\"y\":{\"field\":\"y\"}},\"id\":\"1533\",\"type\":\"Line\"},{\"attributes\":{},\"id\":\"1519\",\"type\":\"ResetTool\"},{\"attributes\":{\"base\":{\"field\":\"base\"},\"coordinates\":null,\"fill_color\":\"LightGreen\",\"group\":null,\"level\":\"underlay\",\"line_color\":\"red\",\"line_width\":2,\"lower\":{\"field\":\"lower\"},\"source\":{\"id\":\"1498\"},\"upper\":{\"field\":\"upper\"}},\"id\":\"1551\",\"type\":\"Band\"},{\"attributes\":{},\"id\":\"1546\",\"type\":\"UnionRenderers\"},{\"attributes\":{\"overlay\":{\"id\":\"1523\"}},\"id\":\"1518\",\"type\":\"BoxZoomTool\"},{\"attributes\":{},\"id\":\"1516\",\"type\":\"PanTool\"},{\"attributes\":{},\"id\":\"1521\",\"type\":\"ZoomInTool\"},{\"attributes\":{\"axis_label\":\"Temperature (C)\",\"coordinates\":null,\"formatter\":{\"id\":\"1541\"},\"group\":null,\"major_label_policy\":{\"id\":\"1542\"},\"ticker\":{\"id\":\"1513\"}},\"id\":\"1512\",\"type\":\"LinearAxis\"},{\"attributes\":{\"axis_label\":\"Days\",\"coordinates\":null,\"formatter\":{\"id\":\"1544\"},\"group\":null,\"major_label_policy\":{\"id\":\"1545\"},\"ticker\":{\"id\":\"1509\"}},\"id\":\"1508\",\"type\":\"LinearAxis\"},{\"attributes\":{},\"id\":\"1506\",\"type\":\"LinearScale\"},{\"attributes\":{},\"id\":\"1504\",\"type\":\"LinearScale\"}],\"root_ids\":[\"1499\"]},\"title\":\"Bokeh Application\",\"version\":\"2.4.1\"}};\n  const render_items = [{\"docid\":\"395242a8-b19b-4de8-8039-798ccc6bb201\",\"root_ids\":[\"1499\"],\"roots\":{\"1499\":\"33f6d89b-9571-49e7-84ce-c6528a2c6a38\"}}];\n  root.Bokeh.embed.embed_items_notebook(docs_json, render_items);\n\n  }\n  if (root.Bokeh !== undefined) {\n    embed_document(root);\n  } else {\n    let attempts = 0;\n    const timer = setInterval(function(root) {\n      if (root.Bokeh !== undefined) {\n        clearInterval(timer);\n        embed_document(root);\n      } else {\n        attempts++;\n        if (attempts > 100) {\n          clearInterval(timer);\n          console.log(\"Bokeh: ERROR: Unable to run BokehJS code because BokehJS library is missing\");\n        }\n      }\n    }, 10, root)\n  }\n})(window);",
      "application/vnd.bokehjs_exec.v0+json": ""
     },
     "metadata": {
      "application/vnd.bokehjs_exec.v0+json": {
       "id": "1499"
      }
     },
     "output_type": "display_data"
    }
   ],
   "source": [
    "x = date\n",
    "y_before_max = spline_before_max(x)\n",
    "y_before_min = spline_before_min(x)\n",
    "y_after_max = spline_after_max(x)\n",
    "y_after_min = spline_after_min(x)\n",
    "y_after_mean = spline_after_mean(x)\n",
    "\n",
    "from bokeh.io import output_notebook\n",
    "from bokeh.plotting import figure, show\n",
    "from bokeh.layouts import gridplot\n",
    "from bokeh.io import output_notebook\n",
    "from bokeh.plotting import ColumnDataSource\n",
    "from bokeh.models import CustomJS, Dropdown\n",
    "output_notebook()\n",
    "from bokeh.models import Band\n",
    "from scipy.ndimage import gaussian_filter1d\n",
    "\n",
    "y_after_mean_smooth = gaussian_filter1d(y_after_mean, 3)\n",
    "y_before_min_smooth = gaussian_filter1d(y_before_min, 3)\n",
    "y_before_max_smooth = gaussian_filter1d(y_before_max, 3)\n",
    "\n",
    "source = ColumnDataSource({\n",
    "        'base': x,\n",
    "        'lower': y_before_min_smooth,\n",
    "        'upper': y_before_max_smooth\n",
    "        })\n",
    "\n",
    "TOOLS = \"pan,wheel_zoom,box_zoom,reset,save,zoom_in,zoom_out\"\n",
    "p = figure(tools=TOOLS, y_range=(-20,40))\n",
    "\n",
    "p.line(x, y_after_mean_smooth, line_width = 2, color = 'Blue', legend_label='Day Average Temperature 2018')\n",
    "band = Band(base='base', lower='lower', upper='upper', source=source, level='underlay',\n",
    "        fill_alpha=0.4, line_width=2, line_color='red', fill_color = \"LightGreen\")\n",
    "p.title.text = 'Band is maximum and minimum temperatures of the last years (2000-)'\n",
    "p.legend.location = \"top_left\"\n",
    "p.legend.click_policy=\"hide\"\n",
    "p.xaxis.axis_label = 'Days'\n",
    "p.yaxis.axis_label = 'Temperature (C)'\n",
    "\n",
    "p.add_layout(band)\n",
    "\n",
    "show(p)\n",
    "\n",
    "\n"
   ]
  },
  {
   "cell_type": "markdown",
   "metadata": {},
   "source": [
    "<details>    \n",
    "<summary>\n",
    "    <font size=\"3\" color=\"darkgreen\"><b>Hints</b></font>\n",
    "</summary>\n",
    "<ul><li>use from bokeh.models import Band</li>\n",
    "    <li>use ColumnDataSource to parse data arrays</li>\n",
    "    <li>look for xaxis tick formatters</li>\n",
    "</ul>\n",
    "</details>"
   ]
  },
  {
   "cell_type": "markdown",
   "metadata": {},
   "source": [
    "---"
   ]
  },
  {
   "cell_type": "markdown",
   "metadata": {},
   "source": [
    "<a name='5'></a>\n",
    "## Part 6: Challenge"
   ]
  },
  {
   "cell_type": "markdown",
   "metadata": {},
   "source": [
    "Make a widget in which you can select the year range for the multiyear set. Or maybe a widget were you choose a different station. Add this to your layout to make the plot interactive. Add another widget to select or deselect the smoother. Inspiration: https://demo.bokeh.org/weather"
   ]
  },
  {
   "cell_type": "code",
   "execution_count": 21,
   "metadata": {},
   "outputs": [
    {
     "data": {
      "application/javascript": "\n(function(root) {\n  function now() {\n    return new Date();\n  }\n\n  var force = true;\n\n  if (typeof root._bokeh_onload_callbacks === \"undefined\" || force === true) {\n    root._bokeh_onload_callbacks = [];\n    root._bokeh_is_loading = undefined;\n  }\n\n  if (typeof (root._bokeh_timeout) === \"undefined\" || force === true) {\n    root._bokeh_timeout = Date.now() + 5000;\n    root._bokeh_failed_load = false;\n  }\n\n  function run_callbacks() {\n    try {\n      root._bokeh_onload_callbacks.forEach(function(callback) {\n        if (callback != null)\n          callback();\n      });\n    } finally {\n      delete root._bokeh_onload_callbacks\n    }\n    console.debug(\"Bokeh: all callbacks have finished\");\n  }\n\n  function load_libs(css_urls, js_urls, js_modules, callback) {\n    if (css_urls == null) css_urls = [];\n    if (js_urls == null) js_urls = [];\n    if (js_modules == null) js_modules = [];\n\n    root._bokeh_onload_callbacks.push(callback);\n    if (root._bokeh_is_loading > 0) {\n      console.debug(\"Bokeh: BokehJS is being loaded, scheduling callback at\", now());\n      return null;\n    }\n    if (js_urls.length === 0 && js_modules.length === 0) {\n      run_callbacks();\n      return null;\n    }\n    console.debug(\"Bokeh: BokehJS not loaded, scheduling load and callback at\", now());\n\n    function on_load() {\n      root._bokeh_is_loading--;\n      if (root._bokeh_is_loading === 0) {\n        console.debug(\"Bokeh: all BokehJS libraries/stylesheets loaded\");\n        run_callbacks()\n      }\n    }\n\n    function on_error() {\n      console.error(\"failed to load \" + url);\n    }\n\n    for (var i = 0; i < css_urls.length; i++) {\n      var url = css_urls[i];\n      const element = document.createElement(\"link\");\n      element.onload = on_load;\n      element.onerror = on_error;\n      element.rel = \"stylesheet\";\n      element.type = \"text/css\";\n      element.href = url;\n      console.debug(\"Bokeh: injecting link tag for BokehJS stylesheet: \", url);\n      document.body.appendChild(element);\n    }\n\n    var skip = [];\n    if (window.requirejs) {\n      window.requirejs.config({'packages': {}, 'paths': {}, 'shim': {}});\n      \n      root._bokeh_is_loading = css_urls.length + 0;\n    } else {\n      root._bokeh_is_loading = css_urls.length + js_urls.length + js_modules.length;\n    }\n    for (var i = 0; i < js_urls.length; i++) {\n      var url = js_urls[i];\n      if (skip.indexOf(url) >= 0) {\n\tif (!window.requirejs) {\n\t  on_load();\n\t}\n\tcontinue;\n      }\n      var element = document.createElement('script');\n      element.onload = on_load;\n      element.onerror = on_error;\n      element.async = false;\n      element.src = url;\n      console.debug(\"Bokeh: injecting script tag for BokehJS library: \", url);\n      document.head.appendChild(element);\n    }\n    for (var i = 0; i < js_modules.length; i++) {\n      var url = js_modules[i];\n      if (skip.indexOf(url) >= 0) {\n\tif (!window.requirejs) {\n\t  on_load();\n\t}\n\tcontinue;\n      }\n      var element = document.createElement('script');\n      element.onload = on_load;\n      element.onerror = on_error;\n      element.async = false;\n      element.src = url;\n      element.type = \"module\";\n      console.debug(\"Bokeh: injecting script tag for BokehJS library: \", url);\n      document.head.appendChild(element);\n    }\n    if (!js_urls.length && !js_modules.length) {\n      on_load()\n    }\n  };\n\n  function inject_raw_css(css) {\n    const element = document.createElement(\"style\");\n    element.appendChild(document.createTextNode(css));\n    document.body.appendChild(element);\n  }\n\n  var js_urls = [\"https://cdn.bokeh.org/bokeh/release/bokeh-2.4.1.min.js\", \"https://cdn.bokeh.org/bokeh/release/bokeh-gl-2.4.1.min.js\", \"https://cdn.bokeh.org/bokeh/release/bokeh-widgets-2.4.1.min.js\", \"https://cdn.bokeh.org/bokeh/release/bokeh-tables-2.4.1.min.js\", \"https://cdn.bokeh.org/bokeh/release/bokeh-mathjax-2.4.1.min.js\", \"https://unpkg.com/@holoviz/panel@0.12.6/dist/panel.min.js\"];\n  var js_modules = [];\n  var css_urls = [\"https://unpkg.com/@holoviz/panel@0.12.6/dist/css/alerts.css\", \"https://unpkg.com/@holoviz/panel@0.12.6/dist/css/card.css\", \"https://unpkg.com/@holoviz/panel@0.12.6/dist/css/dataframe.css\", \"https://unpkg.com/@holoviz/panel@0.12.6/dist/css/json.css\", \"https://unpkg.com/@holoviz/panel@0.12.6/dist/css/loading.css\", \"https://unpkg.com/@holoviz/panel@0.12.6/dist/css/markdown.css\", \"https://unpkg.com/@holoviz/panel@0.12.6/dist/css/widgets.css\"];\n  var inline_js = [\n    function(Bokeh) {\n      inject_raw_css(\"\\n    .bk.pn-loading.arcs:before {\\n      background-image: url(\\\"data:image/svg+xml;base64,PHN2ZyB4bWxucz0iaHR0cDovL3d3dy53My5vcmcvMjAwMC9zdmciIHhtbG5zOnhsaW5rPSJodHRwOi8vd3d3LnczLm9yZy8xOTk5L3hsaW5rIiBzdHlsZT0ibWFyZ2luOiBhdXRvOyBiYWNrZ3JvdW5kOiBub25lOyBkaXNwbGF5OiBibG9jazsgc2hhcGUtcmVuZGVyaW5nOiBhdXRvOyIgdmlld0JveD0iMCAwIDEwMCAxMDAiIHByZXNlcnZlQXNwZWN0UmF0aW89InhNaWRZTWlkIj4gIDxjaXJjbGUgY3g9IjUwIiBjeT0iNTAiIHI9IjMyIiBzdHJva2Utd2lkdGg9IjgiIHN0cm9rZT0iI2MzYzNjMyIgc3Ryb2tlLWRhc2hhcnJheT0iNTAuMjY1NDgyNDU3NDM2NjkgNTAuMjY1NDgyNDU3NDM2NjkiIGZpbGw9Im5vbmUiIHN0cm9rZS1saW5lY2FwPSJyb3VuZCI+ICAgIDxhbmltYXRlVHJhbnNmb3JtIGF0dHJpYnV0ZU5hbWU9InRyYW5zZm9ybSIgdHlwZT0icm90YXRlIiByZXBlYXRDb3VudD0iaW5kZWZpbml0ZSIgZHVyPSIxcyIga2V5VGltZXM9IjA7MSIgdmFsdWVzPSIwIDUwIDUwOzM2MCA1MCA1MCI+PC9hbmltYXRlVHJhbnNmb3JtPiAgPC9jaXJjbGU+PC9zdmc+\\\");\\n      max-height: 400px;\\n    }\\n    \");\n    },\n    function(Bokeh) {\n      Bokeh.set_log_level(\"info\");\n    },\n    function(Bokeh) {} // ensure no trailing comma for IE\n  ];\n\n  function run_inline_js() {\n    if ((root.Bokeh !== undefined) || (force === true)) {\n      for (var i = 0; i < inline_js.length; i++) {\n        inline_js[i].call(root, root.Bokeh);\n      }} else if (Date.now() < root._bokeh_timeout) {\n      setTimeout(run_inline_js, 100);\n    } else if (!root._bokeh_failed_load) {\n      console.log(\"Bokeh: BokehJS failed to load within specified timeout.\");\n      root._bokeh_failed_load = true;\n    }\n  }\n\n  if (root._bokeh_is_loading === 0) {\n    console.debug(\"Bokeh: BokehJS loaded, going straight to plotting\");\n    run_inline_js();\n  } else {\n    load_libs(css_urls, js_urls, js_modules, function() {\n      console.debug(\"Bokeh: BokehJS plotting callback run at\", now());\n      run_inline_js();\n    });\n  }\n}(window));",
      "application/vnd.holoviews_load.v0+json": ""
     },
     "metadata": {},
     "output_type": "display_data"
    },
    {
     "data": {
      "application/javascript": "\nif ((window.PyViz === undefined) || (window.PyViz instanceof HTMLElement)) {\n  window.PyViz = {comms: {}, comm_status:{}, kernels:{}, receivers: {}, plot_index: []}\n}\n\n\n    function JupyterCommManager() {\n    }\n\n    JupyterCommManager.prototype.register_target = function(plot_id, comm_id, msg_handler) {\n      if (window.comm_manager || ((window.Jupyter !== undefined) && (Jupyter.notebook.kernel != null))) {\n        var comm_manager = window.comm_manager || Jupyter.notebook.kernel.comm_manager;\n        comm_manager.register_target(comm_id, function(comm) {\n          comm.on_msg(msg_handler);\n        });\n      } else if ((plot_id in window.PyViz.kernels) && (window.PyViz.kernels[plot_id])) {\n        window.PyViz.kernels[plot_id].registerCommTarget(comm_id, function(comm) {\n          comm.onMsg = msg_handler;\n        });\n      } else if (typeof google != 'undefined' && google.colab.kernel != null) {\n        google.colab.kernel.comms.registerTarget(comm_id, (comm) => {\n          var messages = comm.messages[Symbol.asyncIterator]();\n          function processIteratorResult(result) {\n            var message = result.value;\n            console.log(message)\n            var content = {data: message.data, comm_id};\n            var buffers = []\n            for (var buffer of message.buffers || []) {\n              buffers.push(new DataView(buffer))\n            }\n            var metadata = message.metadata || {};\n            var msg = {content, buffers, metadata}\n            msg_handler(msg);\n            return messages.next().then(processIteratorResult);\n          }\n          return messages.next().then(processIteratorResult);\n        })\n      }\n    }\n\n    JupyterCommManager.prototype.get_client_comm = function(plot_id, comm_id, msg_handler) {\n      if (comm_id in window.PyViz.comms) {\n        return window.PyViz.comms[comm_id];\n      } else if (window.comm_manager || ((window.Jupyter !== undefined) && (Jupyter.notebook.kernel != null))) {\n        var comm_manager = window.comm_manager || Jupyter.notebook.kernel.comm_manager;\n        var comm = comm_manager.new_comm(comm_id, {}, {}, {}, comm_id);\n        if (msg_handler) {\n          comm.on_msg(msg_handler);\n        }\n      } else if ((plot_id in window.PyViz.kernels) && (window.PyViz.kernels[plot_id])) {\n        var comm = window.PyViz.kernels[plot_id].connectToComm(comm_id);\n        comm.open();\n        if (msg_handler) {\n          comm.onMsg = msg_handler;\n        }\n      } else if (typeof google != 'undefined' && google.colab.kernel != null) {\n        var comm_promise = google.colab.kernel.comms.open(comm_id)\n        comm_promise.then((comm) => {\n          window.PyViz.comms[comm_id] = comm;\n          if (msg_handler) {\n            var messages = comm.messages[Symbol.asyncIterator]();\n            function processIteratorResult(result) {\n              var message = result.value;\n              var content = {data: message.data};\n              var metadata = message.metadata || {comm_id};\n              var msg = {content, metadata}\n              msg_handler(msg);\n              return messages.next().then(processIteratorResult);\n            }\n            return messages.next().then(processIteratorResult);\n          }\n        }) \n        var sendClosure = (data, metadata, buffers, disposeOnDone) => {\n          return comm_promise.then((comm) => {\n            comm.send(data, metadata, buffers, disposeOnDone);\n          });\n        };\n        var comm = {\n          send: sendClosure\n        };\n      }\n      window.PyViz.comms[comm_id] = comm;\n      return comm;\n    }\n    window.PyViz.comm_manager = new JupyterCommManager();\n    \n\n\nvar JS_MIME_TYPE = 'application/javascript';\nvar HTML_MIME_TYPE = 'text/html';\nvar EXEC_MIME_TYPE = 'application/vnd.holoviews_exec.v0+json';\nvar CLASS_NAME = 'output';\n\n/**\n * Render data to the DOM node\n */\nfunction render(props, node) {\n  var div = document.createElement(\"div\");\n  var script = document.createElement(\"script\");\n  node.appendChild(div);\n  node.appendChild(script);\n}\n\n/**\n * Handle when a new output is added\n */\nfunction handle_add_output(event, handle) {\n  var output_area = handle.output_area;\n  var output = handle.output;\n  if ((output.data == undefined) || (!output.data.hasOwnProperty(EXEC_MIME_TYPE))) {\n    return\n  }\n  var id = output.metadata[EXEC_MIME_TYPE][\"id\"];\n  var toinsert = output_area.element.find(\".\" + CLASS_NAME.split(' ')[0]);\n  if (id !== undefined) {\n    var nchildren = toinsert.length;\n    var html_node = toinsert[nchildren-1].children[0];\n    html_node.innerHTML = output.data[HTML_MIME_TYPE];\n    var scripts = [];\n    var nodelist = html_node.querySelectorAll(\"script\");\n    for (var i in nodelist) {\n      if (nodelist.hasOwnProperty(i)) {\n        scripts.push(nodelist[i])\n      }\n    }\n\n    scripts.forEach( function (oldScript) {\n      var newScript = document.createElement(\"script\");\n      var attrs = [];\n      var nodemap = oldScript.attributes;\n      for (var j in nodemap) {\n        if (nodemap.hasOwnProperty(j)) {\n          attrs.push(nodemap[j])\n        }\n      }\n      attrs.forEach(function(attr) { newScript.setAttribute(attr.name, attr.value) });\n      newScript.appendChild(document.createTextNode(oldScript.innerHTML));\n      oldScript.parentNode.replaceChild(newScript, oldScript);\n    });\n    if (JS_MIME_TYPE in output.data) {\n      toinsert[nchildren-1].children[1].textContent = output.data[JS_MIME_TYPE];\n    }\n    output_area._hv_plot_id = id;\n    if ((window.Bokeh !== undefined) && (id in Bokeh.index)) {\n      window.PyViz.plot_index[id] = Bokeh.index[id];\n    } else {\n      window.PyViz.plot_index[id] = null;\n    }\n  } else if (output.metadata[EXEC_MIME_TYPE][\"server_id\"] !== undefined) {\n    var bk_div = document.createElement(\"div\");\n    bk_div.innerHTML = output.data[HTML_MIME_TYPE];\n    var script_attrs = bk_div.children[0].attributes;\n    for (var i = 0; i < script_attrs.length; i++) {\n      toinsert[toinsert.length - 1].childNodes[1].setAttribute(script_attrs[i].name, script_attrs[i].value);\n    }\n    // store reference to server id on output_area\n    output_area._bokeh_server_id = output.metadata[EXEC_MIME_TYPE][\"server_id\"];\n  }\n}\n\n/**\n * Handle when an output is cleared or removed\n */\nfunction handle_clear_output(event, handle) {\n  var id = handle.cell.output_area._hv_plot_id;\n  var server_id = handle.cell.output_area._bokeh_server_id;\n  if (((id === undefined) || !(id in PyViz.plot_index)) && (server_id !== undefined)) { return; }\n  var comm = window.PyViz.comm_manager.get_client_comm(\"hv-extension-comm\", \"hv-extension-comm\", function () {});\n  if (server_id !== null) {\n    comm.send({event_type: 'server_delete', 'id': server_id});\n    return;\n  } else if (comm !== null) {\n    comm.send({event_type: 'delete', 'id': id});\n  }\n  delete PyViz.plot_index[id];\n  if ((window.Bokeh !== undefined) & (id in window.Bokeh.index)) {\n    var doc = window.Bokeh.index[id].model.document\n    doc.clear();\n    const i = window.Bokeh.documents.indexOf(doc);\n    if (i > -1) {\n      window.Bokeh.documents.splice(i, 1);\n    }\n  }\n}\n\n/**\n * Handle kernel restart event\n */\nfunction handle_kernel_cleanup(event, handle) {\n  delete PyViz.comms[\"hv-extension-comm\"];\n  window.PyViz.plot_index = {}\n}\n\n/**\n * Handle update_display_data messages\n */\nfunction handle_update_output(event, handle) {\n  handle_clear_output(event, {cell: {output_area: handle.output_area}})\n  handle_add_output(event, handle)\n}\n\nfunction register_renderer(events, OutputArea) {\n  function append_mime(data, metadata, element) {\n    // create a DOM node to render to\n    var toinsert = this.create_output_subarea(\n    metadata,\n    CLASS_NAME,\n    EXEC_MIME_TYPE\n    );\n    this.keyboard_manager.register_events(toinsert);\n    // Render to node\n    var props = {data: data, metadata: metadata[EXEC_MIME_TYPE]};\n    render(props, toinsert[0]);\n    element.append(toinsert);\n    return toinsert\n  }\n\n  events.on('output_added.OutputArea', handle_add_output);\n  events.on('output_updated.OutputArea', handle_update_output);\n  events.on('clear_output.CodeCell', handle_clear_output);\n  events.on('delete.Cell', handle_clear_output);\n  events.on('kernel_ready.Kernel', handle_kernel_cleanup);\n\n  OutputArea.prototype.register_mime_type(EXEC_MIME_TYPE, append_mime, {\n    safe: true,\n    index: 0\n  });\n}\n\nif (window.Jupyter !== undefined) {\n  try {\n    var events = require('base/js/events');\n    var OutputArea = require('notebook/js/outputarea').OutputArea;\n    if (OutputArea.prototype.mime_types().indexOf(EXEC_MIME_TYPE) == -1) {\n      register_renderer(events, OutputArea);\n    }\n  } catch(err) {\n  }\n}\n",
      "application/vnd.holoviews_load.v0+json": ""
     },
     "metadata": {},
     "output_type": "display_data"
    },
    {
     "name": "stdout",
     "output_type": "stream",
     "text": [
      "<class 'int'>\n"
     ]
    },
    {
     "data": {
      "application/vnd.jupyter.widget-view+json": {
       "model_id": "6167ea015d0545f08c0d54482f52141c",
       "version_major": 2,
       "version_minor": 0
      },
      "text/plain": [
       "BokehModel(combine_events=True, render_bundle={'docs_json': {'97d3875f-cc5e-46b4-a65c-d48884e31710': {'defs': …"
      ]
     },
     "metadata": {},
     "output_type": "display_data"
    },
    {
     "data": {
      "text/html": [
       "<div style=\"display: none\"></div>"
      ],
      "text/plain": [
       "Row\n",
       "    [0] Column\n",
       "        [0] Markdown(str)\n",
       "        [1] Column\n",
       "            [0] DiscreteSlider(formatter='%d', name='year', options=[2000, 2001, 2002, ...], value=2000)\n",
       "    [1] Row\n",
       "        [0] Str(int, name='interactive00163')"
      ]
     },
     "execution_count": 21,
     "metadata": {},
     "output_type": "execute_result"
    }
   ],
   "source": [
    "######################### I will do this later\n",
    "\n",
    "def f(year):\n",
    "    print(type(year))\n",
    "    return year\n",
    "\n",
    "years = [2000, 2001, 2002, 2003, 2004, 2005, 2006, 2007, 2008, 2009, 2010, 2011, 2012, 2013,\n",
    "         2014, 2015, 2016, 2017, 2018]\n",
    "\n",
    "import panel as pn\n",
    "pn.extension()\n",
    "layout = pn.interact(f, year=years)\n",
    "grid = pn.Row(pn.Column(\"Choose code\", layout[0]), layout[1])\n",
    "grid\n",
    "\n",
    "## Make a slider to choose years with panel?\n",
    "\n",
    "## Connect this slider to the years through dictionary\n",
    "\n",
    "## Add dropdown to choose different station\n",
    "\n",
    "## Connect dropdown to station choosing"
   ]
  }
 ],
 "metadata": {
  "kernelspec": {
   "display_name": "Python 3",
   "language": "python",
   "name": "python3"
  },
  "language_info": {
   "codemirror_mode": {
    "name": "ipython",
    "version": 3
   },
   "file_extension": ".py",
   "mimetype": "text/x-python",
   "name": "python",
   "nbconvert_exporter": "python",
   "pygments_lexer": "ipython3",
   "version": "3.9.7"
  }
 },
 "nbformat": 4,
 "nbformat_minor": 2
}
